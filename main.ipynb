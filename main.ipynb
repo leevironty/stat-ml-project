{
 "cells": [
  {
   "cell_type": "code",
   "execution_count": 1,
   "metadata": {},
   "outputs": [],
   "source": [
    "%load_ext autoreload\n",
    "%autoreload 2\n",
    "\n",
    "import pandas as pd\n",
    "import numpy as np\n",
    "import sklearn.linear_model as linear\n",
    "import sklearn.preprocessing as pre\n",
    "import sklearn.metrics as metrics\n",
    "import matplotlib.pyplot as plt\n",
    "import time\n",
    "import warnings\n",
    "from typing import overload, Callable\n",
    "from dataclasses import dataclass\n",
    "\n",
    "from main import (\n",
    "    Curve,\n",
    "    get_curves,\n",
    "    loss,\n",
    "    max_profit,\n",
    "    convexify,\n",
    "    lookup_to_tp_fp,\n",
    "    ternary_search,\n",
    "    equal_demographic,\n",
    "    equal_odds,\n",
    "    equal_opportunity,\n",
    "    preprocess,\n",
    "    intersection_threshold\n",
    ")"
   ]
  },
  {
   "cell_type": "code",
   "execution_count": 27,
   "metadata": {},
   "outputs": [],
   "source": [
    "with open('adult.names') as file:\n",
    "    rows = file.read().split('\\n')[-15:]\n",
    "    col_names = [row.split(':')[0] for row in rows][:-1] + ['label']\n",
    "\n",
    "x, y, labels, label_map, weights = preprocess(\n",
    "    fname='adult.data',\n",
    "    col_names=col_names,\n",
    "    protected='sex'\n",
    ")"
   ]
  },
  {
   "cell_type": "code",
   "execution_count": 28,
   "metadata": {},
   "outputs": [],
   "source": [
    "x_test, y_test, labels_test, label_map_test, weights_test = preprocess(\n",
    "    fname='adult.test',\n",
    "    col_names=col_names,\n",
    "    protected='sex'\n",
    ")"
   ]
  },
  {
   "cell_type": "code",
   "execution_count": 30,
   "metadata": {},
   "outputs": [
    {
     "name": "stderr",
     "output_type": "stream",
     "text": [
      "[Parallel(n_jobs=1)]: Using backend SequentialBackend with 1 concurrent workers.\n",
      " This problem is unconstrained.\n"
     ]
    },
    {
     "name": "stdout",
     "output_type": "stream",
     "text": [
      "RUNNING THE L-BFGS-B CODE\n",
      "\n",
      "           * * *\n",
      "\n",
      "Machine precision = 2.220D-16\n",
      " N =           57     M =           10\n",
      "\n",
      "At X0         0 variables are exactly at the bounds\n",
      "\n",
      "At iterate    0    f=  4.28322D+09    |proj g|=  2.63549D+12\n",
      "\n",
      "At iterate   50    f=  3.04065D+09    |proj g|=  7.40011D+10\n",
      "\n",
      "At iterate  100    f=  2.08719D+09    |proj g|=  5.63369D+09\n",
      "\n",
      "At iterate  150    f=  2.02383D+09    |proj g|=  1.61432D+09\n",
      "\n",
      "At iterate  200    f=  2.00129D+09    |proj g|=  7.03819D+07\n",
      "\n",
      "At iterate  250    f=  2.00122D+09    |proj g|=  4.11846D+08\n",
      "\n",
      "At iterate  300    f=  1.99969D+09    |proj g|=  1.42303D+09\n",
      "\n",
      "At iterate  350    f=  1.99243D+09    |proj g|=  2.26254D+10\n",
      "\n",
      "At iterate  400    f=  1.97569D+09    |proj g|=  2.96226D+08\n",
      "\n",
      "At iterate  450    f=  1.97543D+09    |proj g|=  8.39668D+09\n",
      "\n",
      "At iterate  500    f=  1.97421D+09    |proj g|=  2.48843D+09\n",
      "\n",
      "At iterate  550    f=  1.96751D+09    |proj g|=  6.26279D+08\n",
      "\n",
      "At iterate  600    f=  1.96732D+09    |proj g|=  2.69265D+09\n",
      "\n",
      "At iterate  650    f=  1.96713D+09    |proj g|=  9.22478D+08\n",
      "\n",
      "At iterate  700    f=  1.96616D+09    |proj g|=  9.98481D+07\n",
      "\n",
      "At iterate  750    f=  1.96550D+09    |proj g|=  4.23467D+09\n",
      "\n",
      "At iterate  800    f=  1.96346D+09    |proj g|=  4.57279D+08\n",
      "\n",
      "At iterate  850    f=  1.96290D+09    |proj g|=  4.89664D+08\n",
      "\n",
      "At iterate  900    f=  1.96193D+09    |proj g|=  1.14944D+09\n",
      "\n",
      "At iterate  950    f=  1.96105D+09    |proj g|=  1.76934D+09\n",
      "\n",
      "At iterate 1000    f=  1.95961D+09    |proj g|=  1.20326D+09\n",
      "\n",
      "At iterate 1050    f=  1.95956D+09    |proj g|=  5.20391D+07\n",
      "\n",
      "At iterate 1100    f=  1.95941D+09    |proj g|=  5.56100D+08\n",
      "\n",
      "At iterate 1150    f=  1.95875D+09    |proj g|=  1.30599D+09\n",
      "\n",
      "At iterate 1200    f=  1.95707D+09    |proj g|=  4.40834D+08\n",
      "\n",
      "At iterate 1250    f=  1.95324D+09    |proj g|=  4.59510D+07\n",
      "\n",
      "At iterate 1300    f=  1.95293D+09    |proj g|=  1.00970D+09\n",
      "\n",
      "At iterate 1350    f=  1.95274D+09    |proj g|=  8.77582D+07\n",
      "\n",
      "           * * *\n",
      "\n",
      "Tit   = total number of iterations\n",
      "Tnf   = total number of function evaluations\n",
      "Tnint = total number of segments explored during Cauchy searches\n",
      "Skip  = number of BFGS updates skipped\n",
      "Nact  = number of active bounds at final generalized Cauchy point\n",
      "Projg = norm of the final projected gradient\n",
      "F     = final function value\n",
      "\n",
      "           * * *\n",
      "\n",
      "   N    Tit     Tnf  Tnint  Skip  Nact     Projg        F\n",
      "   57   1353   1565      1     0     0   8.335D+07   1.953D+09\n",
      "  F =   1952739496.7093973     \n",
      "\n",
      "CONVERGENCE: REL_REDUCTION_OF_F_<=_FACTR*EPSMCH             \n",
      "base model score: 0.8506802616627254\n"
     ]
    },
    {
     "name": "stderr",
     "output_type": "stream",
     "text": [
      "[Parallel(n_jobs=1)]: Done   1 out of   1 | elapsed:    7.9s finished\n",
      "/Users/leevi/repos/stat-ml-project/main.py:120: RuntimeWarning: divide by zero encountered in divide\n",
      "  redundant = slopes[:-1] < slopes[1:]\n",
      "/Users/leevi/repos/stat-ml-project/main.py:120: RuntimeWarning: divide by zero encountered in divide\n",
      "  redundant = slopes[:-1] < slopes[1:]\n"
     ]
    }
   ],
   "source": [
    "model = linear.LogisticRegression(penalty='none', max_iter=2000, verbose=True)\n",
    "with warnings.catch_warnings():\n",
    "    warnings.filterwarnings('error')\n",
    "    try:\n",
    "        model.fit(x, y, sample_weight=weights)\n",
    "    except Warning as w:\n",
    "        print(w)\n",
    "        exit(1)\n",
    "probs = model.predict_proba(x)[:, 1]  # probability of y = 1\n",
    "print(f'base model score: {model.score(x, y)}')\n",
    "curves = get_curves(probs, labels, label_map, y, weights)"
   ]
  },
  {
   "cell_type": "code",
   "execution_count": 31,
   "metadata": {},
   "outputs": [
    {
     "name": "stdout",
     "output_type": "stream",
     "text": [
      "base model score: 0.8519132731404705\n"
     ]
    },
    {
     "name": "stderr",
     "output_type": "stream",
     "text": [
      "/Users/leevi/repos/stat-ml-project/main.py:120: RuntimeWarning: divide by zero encountered in divide\n",
      "  redundant = slopes[:-1] < slopes[1:]\n",
      "/Users/leevi/repos/stat-ml-project/main.py:120: RuntimeWarning: divide by zero encountered in divide\n",
      "  redundant = slopes[:-1] < slopes[1:]\n"
     ]
    }
   ],
   "source": [
    "probs_test = model.predict_proba(x_test)[:, 1]  # probability of y = 1\n",
    "print(f'base model score: {model.score(x_test, y_test)}')\n",
    "curves_test = get_curves(probs_test, labels_test, label_map_test, y_test, weights_test)"
   ]
  },
  {
   "cell_type": "code",
   "execution_count": 86,
   "metadata": {},
   "outputs": [
    {
     "data": {
      "text/plain": [
       "0.5163591386070389"
      ]
     },
     "execution_count": 86,
     "metadata": {},
     "output_type": "execute_result"
    }
   ],
   "source": [
    "# check blind model max\n",
    "fpr, tpr, th = metrics.roc_curve(y, probs)\n",
    "i = loss(tpr, fpr, y.mean()).argmin()\n",
    "bm = tpr[i], fpr[i], th[i]\n",
    "th[i]"
   ]
  },
  {
   "cell_type": "code",
   "execution_count": 87,
   "metadata": {},
   "outputs": [
    {
     "name": "stdout",
     "output_type": "stream",
     "text": [
      "max profit: (array([0.47727821, 0.47749692]), array([0.650956  , 0.55083272]), array([0.10570515, 0.02660708]))\n",
      "0.16493265825741574\n",
      "equal demographic: (array([[0.66933317, 0.65456209],\n",
      "       [0.23460007, 0.19386129]]), array([0.45064775, 0.78227622]), array([0.03911074, 0.08905192]), 0.16493265825741574, array([0.66933313, 0.2032111 ]))\n",
      "0.6098776788718527\n",
      "equal opportunity: (array([[0.54367603, 0.47727821],\n",
      "       [0.47749692, 0.38860778]]), array([0.60987768, 0.60987768]), array([0.08921515, 0.03691127]), 0.6098776788718527, array([0.51882691, 0.3886081 ]))\n",
      "equal odds: (0.5210938183486458, 0.058598450897520374)\n"
     ]
    }
   ],
   "source": [
    "mp = max_profit(curves)\n",
    "print(f'max profit: {mp}')\n",
    "\n",
    "ed = equal_demographic(curves)\n",
    "print(f'equal demographic: {ed}')\n",
    "\n",
    "eopp = equal_opportunity(curves)\n",
    "print(f'equal opportunity: {eopp}')\n",
    "\n",
    "eodd = equal_odds(curves)\n",
    "print(f'equal odds: {eodd}')"
   ]
  },
  {
   "cell_type": "code",
   "execution_count": 88,
   "metadata": {},
   "outputs": [
    {
     "name": "stdout",
     "output_type": "stream",
     "text": [
      "[0.30573658 0.10946059]\n",
      "[0.66920549 0.33079451]\n"
     ]
    }
   ],
   "source": [
    "pis = np.array([curve.pi for curve in curves])\n",
    "shares = np.array([curve.share for curve in curves])\n",
    "print(pis)\n",
    "print(shares)"
   ]
  },
  {
   "cell_type": "code",
   "execution_count": 89,
   "metadata": {},
   "outputs": [
    {
     "data": {
      "text/plain": [
       "0.5163591386070389"
      ]
     },
     "execution_count": 89,
     "metadata": {},
     "output_type": "execute_result"
    }
   ],
   "source": [
    "bm[2]"
   ]
  },
  {
   "cell_type": "code",
   "execution_count": 90,
   "metadata": {},
   "outputs": [
    {
     "data": {
      "text/plain": [
       "predictor\n",
       "blind                 0.148613\n",
       "max profit            0.144628\n",
       "demographic parity    0.164686\n",
       "equal opportunity     0.146269\n",
       "equal odds            0.159813\n",
       "Name: loss, dtype: float64"
      ]
     },
     "execution_count": 90,
     "metadata": {},
     "output_type": "execute_result"
    }
   ],
   "source": [
    "# tabulate losses\n",
    "loss_table = pd.Series(\n",
    "    data={\n",
    "        'blind': 1 - ((probs >= bm[2]) * 1 == y).mean(),\n",
    "        'max profit': loss(mp[1], mp[2], pis).dot(shares),\n",
    "        'demographic parity': loss(ed[1], ed[2], pis).dot(shares),\n",
    "        'equal opportunity': loss(eopp[1], eopp[2], pis).dot(shares),\n",
    "        'equal odds': loss(eodd[0], eodd[1], pis).dot(shares),\n",
    "    }\n",
    ")\n",
    "loss_table.index.name = 'predictor'\n",
    "loss_table.name = 'loss'\n",
    "loss_table"
   ]
  },
  {
   "cell_type": "code",
   "execution_count": 9,
   "metadata": {},
   "outputs": [
    {
     "name": "stderr",
     "output_type": "stream",
     "text": [
      "/var/folders/nc/dhtws2m1317bwzbsxq9n3_gc0000gn/T/ipykernel_1900/494938161.py:1: FutureWarning: In future versions `DataFrame.to_latex` is expected to utilise the base implementation of `Styler.to_latex` for formatting and rendering. The arguments signature may therefore change. It is recommended instead to use `DataFrame.style.to_latex` which also contains additional functionality.\n",
      "  loss_table.to_latex('loss.tex', float_format='%.4f')\n"
     ]
    }
   ],
   "source": [
    "loss_table.to_latex('loss.tex', float_format='%.4f')"
   ]
  },
  {
   "cell_type": "code",
   "execution_count": 91,
   "metadata": {},
   "outputs": [
    {
     "data": {
      "text/plain": [
       "array([0.47727821, 0.47749692])"
      ]
     },
     "execution_count": 91,
     "metadata": {},
     "output_type": "execute_result"
    }
   ],
   "source": [
    "# max profit thresholds\n",
    "mp[0]"
   ]
  },
  {
   "cell_type": "code",
   "execution_count": 92,
   "metadata": {},
   "outputs": [
    {
     "data": {
      "text/plain": [
       "array([[0.66933317, 0.65456209],\n",
       "       [0.23460007, 0.19386129]])"
      ]
     },
     "execution_count": 92,
     "metadata": {},
     "output_type": "execute_result"
    }
   ],
   "source": [
    "# equal demographic thresholds\n",
    "ed[0]"
   ]
  },
  {
   "cell_type": "code",
   "execution_count": 93,
   "metadata": {},
   "outputs": [
    {
     "data": {
      "text/plain": [
       "array([[0.54367603, 0.47727821],\n",
       "       [0.47749692, 0.38860778]])"
      ]
     },
     "execution_count": 93,
     "metadata": {},
     "output_type": "execute_result"
    }
   ],
   "source": [
    "# equal opportunity thresholds\n",
    "eopp[0]"
   ]
  },
  {
   "cell_type": "code",
   "execution_count": 94,
   "metadata": {},
   "outputs": [
    {
     "data": {
      "text/plain": [
       "(array([[0.66933317, 0.65456209],\n",
       "        [0.23460007, 0.19386129]]),\n",
       " array([0.45064775, 0.78227622]),\n",
       " array([0.03911074, 0.08905192]),\n",
       " 0.16493265825741574,\n",
       " array([0.66933313, 0.2032111 ]))"
      ]
     },
     "execution_count": 94,
     "metadata": {},
     "output_type": "execute_result"
    }
   ],
   "source": [
    "ed"
   ]
  },
  {
   "cell_type": "code",
   "execution_count": 52,
   "metadata": {},
   "outputs": [
    {
     "data": {
      "text/html": [
       "<div>\n",
       "<style scoped>\n",
       "    .dataframe tbody tr th:only-of-type {\n",
       "        vertical-align: middle;\n",
       "    }\n",
       "\n",
       "    .dataframe tbody tr th {\n",
       "        vertical-align: top;\n",
       "    }\n",
       "\n",
       "    .dataframe thead th {\n",
       "        text-align: right;\n",
       "    }\n",
       "</style>\n",
       "<table border=\"1\" class=\"dataframe\">\n",
       "  <thead>\n",
       "    <tr style=\"text-align: right;\">\n",
       "      <th></th>\n",
       "      <th>Male</th>\n",
       "      <th>Female</th>\n",
       "    </tr>\n",
       "    <tr>\n",
       "      <th>predictor</th>\n",
       "      <th></th>\n",
       "      <th></th>\n",
       "    </tr>\n",
       "  </thead>\n",
       "  <tbody>\n",
       "    <tr>\n",
       "      <th>max profit</th>\n",
       "      <td>0.502999</td>\n",
       "      <td>0.517576</td>\n",
       "    </tr>\n",
       "    <tr>\n",
       "      <th>blind</th>\n",
       "      <td>0.502936</td>\n",
       "      <td>0.502936</td>\n",
       "    </tr>\n",
       "    <tr>\n",
       "      <th>equal opportunity</th>\n",
       "      <td>0.547977</td>\n",
       "      <td>0.451887</td>\n",
       "    </tr>\n",
       "    <tr>\n",
       "      <th>demographic parity</th>\n",
       "      <td>0.668736</td>\n",
       "      <td>0.220349</td>\n",
       "    </tr>\n",
       "  </tbody>\n",
       "</table>\n",
       "</div>"
      ],
      "text/plain": [
       "                        Male    Female\n",
       "predictor                             \n",
       "max profit          0.502999  0.517576\n",
       "blind               0.502936  0.502936\n",
       "equal opportunity   0.547977  0.451887\n",
       "demographic parity  0.668736  0.220349"
      ]
     },
     "execution_count": 52,
     "metadata": {},
     "output_type": "execute_result"
    }
   ],
   "source": [
    "thresholds = pd.DataFrame(data={\n",
    "    'max profit': mp[0],\n",
    "    'blind': bm[2],\n",
    "    'equal opportunity': eopp[4],\n",
    "    'demographic parity': ed[-1],\n",
    "}, index=label_map)\n",
    "thresholds = thresholds.transpose()\n",
    "thresholds.index.name = 'predictor'\n",
    "thresholds.name = 'thresholds'\n",
    "thresholds\n"
   ]
  },
  {
   "cell_type": "code",
   "execution_count": 95,
   "metadata": {},
   "outputs": [
    {
     "data": {
      "text/html": [
       "<div>\n",
       "<style scoped>\n",
       "    .dataframe tbody tr th:only-of-type {\n",
       "        vertical-align: middle;\n",
       "    }\n",
       "\n",
       "    .dataframe tbody tr th {\n",
       "        vertical-align: top;\n",
       "    }\n",
       "\n",
       "    .dataframe thead th {\n",
       "        text-align: right;\n",
       "    }\n",
       "</style>\n",
       "<table border=\"1\" class=\"dataframe\">\n",
       "  <thead>\n",
       "    <tr style=\"text-align: right;\">\n",
       "      <th></th>\n",
       "      <th>Male</th>\n",
       "      <th>Female</th>\n",
       "    </tr>\n",
       "    <tr>\n",
       "      <th>predictor</th>\n",
       "      <th></th>\n",
       "      <th></th>\n",
       "    </tr>\n",
       "  </thead>\n",
       "  <tbody>\n",
       "    <tr>\n",
       "      <th>max profit</th>\n",
       "      <td>0.477278</td>\n",
       "      <td>0.477497</td>\n",
       "    </tr>\n",
       "    <tr>\n",
       "      <th>blind</th>\n",
       "      <td>0.516359</td>\n",
       "      <td>0.516359</td>\n",
       "    </tr>\n",
       "    <tr>\n",
       "      <th>equal opportunity</th>\n",
       "      <td>0.518827</td>\n",
       "      <td>0.388608</td>\n",
       "    </tr>\n",
       "    <tr>\n",
       "      <th>demographic parity</th>\n",
       "      <td>0.669333</td>\n",
       "      <td>0.203211</td>\n",
       "    </tr>\n",
       "  </tbody>\n",
       "</table>\n",
       "</div>"
      ],
      "text/plain": [
       "                        Male    Female\n",
       "predictor                             \n",
       "max profit          0.477278  0.477497\n",
       "blind               0.516359  0.516359\n",
       "equal opportunity   0.518827  0.388608\n",
       "demographic parity  0.669333  0.203211"
      ]
     },
     "execution_count": 95,
     "metadata": {},
     "output_type": "execute_result"
    }
   ],
   "source": [
    "thresholds = pd.DataFrame(data={\n",
    "    'max profit': mp[0],\n",
    "    'blind': bm[2],\n",
    "    'equal opportunity': eopp[4],\n",
    "    'demographic parity': ed[-1],\n",
    "}, index=label_map)\n",
    "thresholds = thresholds.transpose()\n",
    "thresholds.index.name = 'predictor'\n",
    "thresholds.name = 'thresholds'\n",
    "thresholds"
   ]
  },
  {
   "cell_type": "code",
   "execution_count": 96,
   "metadata": {},
   "outputs": [
    {
     "name": "stdout",
     "output_type": "stream",
     "text": [
      "\\begin{tabular}{lrr}\n",
      "\\toprule\n",
      "{} &   Male &  Female \\\\\n",
      "predictor          &        &         \\\\\n",
      "\\midrule\n",
      "max profit         & 0.4773 &  0.4775 \\\\\n",
      "blind              & 0.5164 &  0.5164 \\\\\n",
      "equal opportunity  & 0.5188 &  0.3886 \\\\\n",
      "demographic parity & 0.6693 &  0.2032 \\\\\n",
      "\\bottomrule\n",
      "\\end{tabular}\n",
      "\n"
     ]
    },
    {
     "name": "stderr",
     "output_type": "stream",
     "text": [
      "/var/folders/nc/dhtws2m1317bwzbsxq9n3_gc0000gn/T/ipykernel_79251/856907552.py:1: FutureWarning: In future versions `DataFrame.to_latex` is expected to utilise the base implementation of `Styler.to_latex` for formatting and rendering. The arguments signature may therefore change. It is recommended instead to use `DataFrame.style.to_latex` which also contains additional functionality.\n",
      "  print(thresholds.to_latex(float_format='%.4f'))\n"
     ]
    }
   ],
   "source": [
    "print(thresholds.to_latex(float_format='%.4f'))"
   ]
  },
  {
   "cell_type": "code",
   "execution_count": 97,
   "metadata": {},
   "outputs": [
    {
     "ename": "NameError",
     "evalue": "name 't' is not defined",
     "output_type": "error",
     "traceback": [
      "\u001b[0;31m---------------------------------------------------------------------------\u001b[0m",
      "\u001b[0;31mNameError\u001b[0m                                 Traceback (most recent call last)",
      "\u001b[1;32m/Users/leevi/repos/stat-ml-project/main.ipynb Cell 19\u001b[0m in \u001b[0;36m<cell line: 1>\u001b[0;34m()\u001b[0m\n\u001b[0;32m----> <a href='vscode-notebook-cell:/Users/leevi/repos/stat-ml-project/main.ipynb#X22sZmlsZQ%3D%3D?line=0'>1</a>\u001b[0m t\u001b[39m.\u001b[39mreindex([\u001b[39m'\u001b[39m\u001b[39mblind\u001b[39m\u001b[39m'\u001b[39m, \u001b[39m'\u001b[39m\u001b[39mmax profit\u001b[39m\u001b[39m'\u001b[39m, \u001b[39m'\u001b[39m\u001b[39mdemographic parity\u001b[39m\u001b[39m'\u001b[39m, \u001b[39m'\u001b[39m\u001b[39mequal odds\u001b[39m\u001b[39m'\u001b[39m, \u001b[39m'\u001b[39m\u001b[39mequal opportunity\u001b[39m\u001b[39m'\u001b[39m])\n",
      "\u001b[0;31mNameError\u001b[0m: name 't' is not defined"
     ]
    }
   ],
   "source": [
    "t.reindex(['blind', 'max profit', 'demographic parity', 'equal odds', 'equal opportunity'])"
   ]
  },
  {
   "cell_type": "code",
   "execution_count": 98,
   "metadata": {},
   "outputs": [],
   "source": [
    "male_eodd_th = intersection_threshold(curves[0], *eodd)\n",
    "female_eodd_th = intersection_threshold(curves[1], *eodd)"
   ]
  },
  {
   "cell_type": "code",
   "execution_count": 99,
   "metadata": {},
   "outputs": [
    {
     "data": {
      "image/png": "[encoded data removed]",
      "text/plain": [
       "<Figure size 360x360 with 1 Axes>"
      ]
     },
     "metadata": {
      "needs_background": "light"
     },
     "output_type": "display_data"
    }
   ],
   "source": [
    "t = thresholds.copy()\n",
    "# t.loc['equal odds'] = None\n",
    "t = t.reindex(['blind', 'max profit', 'equal opportunity', 'equal odds', 'demographic parity']).iloc[::-1, :]\n",
    "t.loc['equal odds', 'Male'] = male_eodd_th\n",
    "n_rows = t.shape[0]\n",
    "fig, ax = plt.subplots(figsize=(5, 5))\n",
    "ax.scatter(x=t['Male'], y=t.index, label='Male', marker='+')\n",
    "f = ax.scatter(x=t['Female'], y=t.index, label='Female', marker='x')\n",
    "ax.plot([0, female_eodd_th], [t.index.get_loc('equal odds'), t.index.get_loc('equal odds')], color='tab:orange', marker='x', linewidth=1)\n",
    "# f.set_offsets((10, 10))\n",
    "ax.legend()\n",
    "ax.set_xlim(0, 1)\n",
    "for i in range(n_rows - 1):\n",
    "    ax.axhline(y=0.5 + i, linestyle=':', c='#333', linewidth=1)\n",
    "ax.set_ylim(-0.5, 0.5 + n_rows - 1)\n",
    "ax.set_xlabel('threshold')\n",
    "ax.set_title('Modified threshold by predictor')\n",
    "fig.tight_layout()\n",
    "fig.savefig('thresholds.png', dpi=300)"
   ]
  },
  {
   "cell_type": "code",
   "execution_count": 100,
   "metadata": {},
   "outputs": [
    {
     "data": {
      "image/png": "[encoded data removed]",
      "text/plain": [
       "<Figure size 360x360 with 1 Axes>"
      ]
     },
     "metadata": {
      "needs_background": "light"
     },
     "output_type": "display_data"
    }
   ],
   "source": [
    "fig, ax = plt.subplots(figsize=(5, 5))\n",
    "for curve in curves:\n",
    "    ax.plot(curve.fps, curve.tps, label=curve.label, zorder=1)\n",
    "for c, curve in enumerate(curves):\n",
    "    ax.scatter(mp[2][c], mp[1][c], color='k', marker='x', label='max profit' if c == 0 else None)\n",
    "    ax.scatter(ed[2][c], ed[1][c], color='k', marker='.', label='demographic parity' if c == 0 else None)\n",
    "    ax.scatter(eopp[2][c], eopp[1][c], color='k', marker='+', label='equal opportunity' if c == 0 else None)\n",
    "    _tp, _fp = lookup_to_tp_fp(bm[2], curve.ths[::-1], curve.tps[::-1], curve.fps[::-1])\n",
    "    m = ax.scatter(_fp, _tp, color='k', marker='o', label='blind' if c == 0 else None)\n",
    "    m.set_facecolor('none')\n",
    "ax.scatter(eodd[1], eodd[0], color='red', marker='x', label='equal odds')\n",
    "ax.legend(loc='lower right')\n",
    "ax.set_ylabel('$P(\\hat{y}=1|y=1)$')\n",
    "ax.set_xlabel('$P(\\hat{y}=1|y=0)$')\n",
    "ax.set_title('Per group ROC-curve\\nconvex hulls')\n",
    "ax.set_xlim(0, 0.3)\n",
    "fig.tight_layout()\n",
    "\n",
    "fig.savefig('curves-zoomed.png', dpi=300)"
   ]
  },
  {
   "cell_type": "code",
   "execution_count": 22,
   "metadata": {},
   "outputs": [
    {
     "data": {
      "image/png": "[encoded data removed]",
      "text/plain": [
       "<Figure size 360x360 with 1 Axes>"
      ]
     },
     "metadata": {
      "needs_background": "light"
     },
     "output_type": "display_data"
    }
   ],
   "source": [
    "fig, ax = plt.subplots(figsize=(5, 5))\n",
    "for curve, color in zip(curves, ('tab:blue', 'tab:orange')):\n",
    "    ax.plot(curve.fps, curve.tps, label=f'train: {curve.label}', c=color, linewidth=1)\n",
    "for curve, color in zip(curves_test, ('tab:blue', 'tab:orange')):\n",
    "    ax.plot(curve.fps, curve.tps, label=f'test: {curve.label}', c=color, linestyle=':', linewidth=2)\n",
    "ax.legend(loc='lower right')\n",
    "ax.set_ylabel('$P(\\hat{y}=1|y=1)$')\n",
    "ax.set_xlabel('$P(\\hat{y}=1|y=0)$')\n",
    "ax.set_title('A-conditional ROC-curves')\n",
    "# ax.set_xlim(0, 0.3)\n",
    "fig.tight_layout()\n",
    "\n",
    "fig.savefig('rocs.png', dpi=300)"
   ]
  },
  {
   "cell_type": "code",
   "execution_count": 80,
   "metadata": {},
   "outputs": [
    {
     "data": {
      "image/png": "[encoded data removed]",
      "text/plain": [
       "<Figure size 720x360 with 2 Axes>"
      ]
     },
     "metadata": {
      "needs_background": "light"
     },
     "output_type": "display_data"
    }
   ],
   "source": [
    "fig, (ax_roc, ax_th) = plt.subplots(1, 2, figsize=(10, 5))\n",
    "\n",
    "legend_includes = []\n",
    "for curve, color in zip(curves, ('tab:blue', 'tab:orange')):\n",
    "    l1, = ax_roc.plot(curve.fps, curve.tps, label=f'train: {curve.label}', c=color, linewidth=1)\n",
    "    l2, = ax_th.plot(curve.ths, curve.tps, c=color, linewidth=1)\n",
    "for curve, color in zip(curves_test, ('tab:blue', 'tab:orange')):\n",
    "    ax_roc.plot(curve.fps, curve.tps, c=color, label=f'test: {curve.label}', linestyle=':', linewidth=2)\n",
    "    ax_th.plot(curve.ths, curve.tps, c=color, linestyle=':', linewidth=2)\n",
    "\n",
    "\n",
    "ax_roc.set_ylabel('True positive rate')\n",
    "ax_roc.set_xlabel('False positive rate')\n",
    "ax_th.set_ylabel('True positive rate')\n",
    "ax_th.set_xlabel('Threshold')\n",
    "\n",
    "ax_roc.set_title(\n",
    "    'Comparison of test and train\\nA-conditional ROC curves',\n",
    "    fontsize=16,\n",
    ")\n",
    "ax_th.set_title(\n",
    "    'Comparison of test and train\\nA-conditional true positive rate versus threshold',\n",
    "    fontsize=16,\n",
    ")\n",
    "\n",
    "fig.legend(\n",
    "    loc='lower center',\n",
    "    ncol=4,\n",
    "    facecolor='#333',\n",
    "    frameon=False\n",
    ")\n",
    "\n",
    "\n",
    "fig.tight_layout(rect=(0, 0.05, 1, 1))\n",
    "\n",
    "fig.savefig('proof-of-no-overfit.png', dpi=300)"
   ]
  },
  {
   "cell_type": "code",
   "execution_count": 156,
   "metadata": {},
   "outputs": [
    {
     "data": {
      "image/png": "[encoded data removed]",
      "text/plain": [
       "<Figure size 432x288 with 1 Axes>"
      ]
     },
     "metadata": {
      "needs_background": "light"
     },
     "output_type": "display_data"
    }
   ],
   "source": [
    "def neg_loss_ac_parity(v: float) -> float:\n",
    "    l = 0\n",
    "    for curve in curves:\n",
    "        v_tp, v_fp = lookup_to_tp_fp(v, curve.acs, curve.tps, curve.fps)\n",
    "        l += loss(v_tp, v_fp, curve.pi) * curve.share\n",
    "    return -l\n",
    "\n",
    "x = np.linspace(0, 1, num=1000)\n",
    "y = np.array([-neg_loss_ac_parity(v) for v in x])\n",
    "\n",
    "i = y.argmin()\n",
    "\n",
    "\n",
    "fig, ax = plt.subplots()\n",
    "\n",
    "ax.plot(x, y, label='loss', zorder=1)\n",
    "ax.set_xlabel('$P(\\hat{y}=1|A)$')\n",
    "ax.set_ylabel('$R(\\hat{y}, y)$')\n",
    "ax.scatter(x[i], y[i], label='global minimum', c='#f33')\n",
    "ax.set_title('Expected loss as a function\\nof demographic parity')\n",
    "ax.legend()\n",
    "ax.set_xlim(0, 1)\n",
    "\n",
    "fig.savefig('loss-vs-demographic.png', dpi=300)\n"
   ]
  },
  {
   "attachments": {},
   "cell_type": "markdown",
   "metadata": {},
   "source": [
    "# test data metrics"
   ]
  },
  {
   "cell_type": "code",
   "execution_count": 102,
   "metadata": {},
   "outputs": [],
   "source": [
    "probs_test = model.predict_proba(x_test)[:, 1]"
   ]
  },
  {
   "cell_type": "code",
   "execution_count": 103,
   "metadata": {},
   "outputs": [
    {
     "data": {
      "text/plain": [
       "0.14851667587985995"
      ]
     },
     "execution_count": 103,
     "metadata": {},
     "output_type": "execute_result"
    }
   ],
   "source": [
    "# max profit\n",
    "out = []\n",
    "for c, th in enumerate(mp[0]):\n",
    "    mask = labels_test == c\n",
    "    probs_test_c = probs_test[mask]\n",
    "    y_test_c = y_test[mask]\n",
    "    preds = probs_test_c >= th\n",
    "    correct = preds == y_test_c\n",
    "    out.append(correct)\n",
    "    # corrects = np.concatenate([corrects, correct])\n",
    "corrects = np.concatenate(out)\n",
    "mp_test_accuracy = corrects.mean()\n",
    "1 - mp_test_accuracy\n"
   ]
  },
  {
   "cell_type": "code",
   "execution_count": 104,
   "metadata": {},
   "outputs": [
    {
     "data": {
      "text/plain": [
       "0.14802530557091087"
      ]
     },
     "execution_count": 104,
     "metadata": {},
     "output_type": "execute_result"
    }
   ],
   "source": [
    "# blind\n",
    "preds = probs_test >= bm[-1]\n",
    "bm_test_accuracy = (preds == y_test).mean()\n",
    "1 - bm_test_accuracy"
   ]
  },
  {
   "cell_type": "code",
   "execution_count": 105,
   "metadata": {},
   "outputs": [
    {
     "data": {
      "text/plain": [
       "0.16835575210367915"
      ]
     },
     "execution_count": 105,
     "metadata": {},
     "output_type": "execute_result"
    }
   ],
   "source": [
    "# demographic parity\n",
    "out = []\n",
    "for c, th in enumerate(ed[-1]):\n",
    "    mask = labels_test == c\n",
    "    probs_test_c = probs_test[mask]\n",
    "    y_test_c = y_test[mask]\n",
    "    preds = probs_test_c >= th\n",
    "    correct = preds == y_test_c\n",
    "    out.append(correct)\n",
    "    # corrects = np.concatenate([corrects, correct])\n",
    "corrects = np.concatenate(out)\n",
    "ed_test_accuracy = corrects.mean()\n",
    "1 - ed_test_accuracy"
   ]
  },
  {
   "cell_type": "code",
   "execution_count": 106,
   "metadata": {},
   "outputs": [
    {
     "data": {
      "text/plain": [
       "0.149683680363614"
      ]
     },
     "execution_count": 106,
     "metadata": {},
     "output_type": "execute_result"
    }
   ],
   "source": [
    "# equal opportunity\n",
    "out = []\n",
    "for c, th in enumerate(eopp[-1]):\n",
    "    mask = labels_test == c\n",
    "    probs_test_c = probs_test[mask]\n",
    "    y_test_c = y_test[mask]\n",
    "    preds = probs_test_c >= th\n",
    "    correct = preds == y_test_c\n",
    "    out.append(correct)\n",
    "    # corrects = np.concatenate([corrects, correct])\n",
    "corrects = np.concatenate(out)\n",
    "eopp_test_accuracy = corrects.mean()\n",
    "1 - eopp_test_accuracy"
   ]
  },
  {
   "cell_type": "code",
   "execution_count": 107,
   "metadata": {},
   "outputs": [],
   "source": [
    "# equal odds"
   ]
  },
  {
   "cell_type": "code",
   "execution_count": 108,
   "metadata": {},
   "outputs": [
    {
     "name": "stdout",
     "output_type": "stream",
     "text": [
      "0.5210938183486458 0.058598450897520374\n",
      "0.0\n",
      "0.7019504858275507 0.058598450897520374\n",
      "0.0\n"
     ]
    }
   ],
   "source": [
    "l = 0\n",
    "f = eodd[-1]\n",
    "for c, curve in enumerate(curves):\n",
    "\n",
    "    tp, fp = lookup_to_tp_fp(f, curve.fps, curve.tps, curve.fps)\n",
    "    print(tp, fp)\n",
    "    sr = (f - fp) / (1 - fp)\n",
    "    print(sr)"
   ]
  },
  {
   "cell_type": "code",
   "execution_count": null,
   "metadata": {},
   "outputs": [],
   "source": []
  },
  {
   "cell_type": "code",
   "execution_count": 109,
   "metadata": {},
   "outputs": [
    {
     "data": {
      "text/plain": [
       "'Female'"
      ]
     },
     "execution_count": 109,
     "metadata": {},
     "output_type": "execute_result"
    }
   ],
   "source": [
    "curve.label"
   ]
  },
  {
   "cell_type": "code",
   "execution_count": 110,
   "metadata": {},
   "outputs": [
    {
     "data": {
      "text/plain": [
       "(0.5048192907373412, 0.021587463870353665)"
      ]
     },
     "execution_count": 110,
     "metadata": {},
     "output_type": "execute_result"
    }
   ],
   "source": [
    "lookup_to_tp_fp(female_eodd_th, curve.ths[::-1], curve.tps[::-1], curve.fps[::-1])"
   ]
  },
  {
   "cell_type": "code",
   "execution_count": 111,
   "metadata": {},
   "outputs": [
    {
     "name": "stdout",
     "output_type": "stream",
     "text": [
      "Male: 0.15657306374559854\n",
      "Female: 0.20919931777306133\n"
     ]
    },
    {
     "data": {
      "text/plain": [
       "0.1739815395949214"
      ]
     },
     "execution_count": 111,
     "metadata": {},
     "output_type": "execute_result"
    }
   ],
   "source": [
    "# eodd test loss\n",
    "l = 0\n",
    "for th, curve in zip([male_eodd_th, female_eodd_th], curves):\n",
    "    tp, fp = lookup_to_tp_fp(th, curve.ths[::-1], curve.tps[::-1], curve.fps[::-1])\n",
    "    sr = (eodd[-1] - fp ) / (1 - fp)\n",
    "    if abs(sr) < 1e-6:\n",
    "        pred = probs_test >= th\n",
    "        correct = (pred == y_test) * 1\n",
    "        print(f'{curve.label}: {1 - correct.mean()}')\n",
    "        l += (1 - correct.mean()) * curve.share\n",
    "    else:\n",
    "        mask = probs_test >= th\n",
    "        a = mask.mean()\n",
    "        b = y_test[mask].mean()\n",
    "        c = 1 - b\n",
    "        d = 1 - y_test[~mask].mean()\n",
    "        change = sr * d * (1 - a) + c * a + (1 - sr) * b * a\n",
    "        print(f'{curve.label}: {change}')\n",
    "        l += change * curve.share\n",
    "eodd_test_loss = l\n",
    "l"
   ]
  },
  {
   "cell_type": "code",
   "execution_count": 112,
   "metadata": {},
   "outputs": [
    {
     "data": {
      "text/html": [
       "<div>\n",
       "<style scoped>\n",
       "    .dataframe tbody tr th:only-of-type {\n",
       "        vertical-align: middle;\n",
       "    }\n",
       "\n",
       "    .dataframe tbody tr th {\n",
       "        vertical-align: top;\n",
       "    }\n",
       "\n",
       "    .dataframe thead th {\n",
       "        text-align: right;\n",
       "    }\n",
       "</style>\n",
       "<table border=\"1\" class=\"dataframe\">\n",
       "  <thead>\n",
       "    <tr style=\"text-align: right;\">\n",
       "      <th></th>\n",
       "      <th>train loss</th>\n",
       "      <th>test loss</th>\n",
       "    </tr>\n",
       "    <tr>\n",
       "      <th>predictor</th>\n",
       "      <th></th>\n",
       "      <th></th>\n",
       "    </tr>\n",
       "  </thead>\n",
       "  <tbody>\n",
       "    <tr>\n",
       "      <th>blind</th>\n",
       "      <td>0.148613</td>\n",
       "      <td>0.148025</td>\n",
       "    </tr>\n",
       "    <tr>\n",
       "      <th>max profit</th>\n",
       "      <td>0.144628</td>\n",
       "      <td>0.148517</td>\n",
       "    </tr>\n",
       "    <tr>\n",
       "      <th>demographic parity</th>\n",
       "      <td>0.164686</td>\n",
       "      <td>0.168356</td>\n",
       "    </tr>\n",
       "    <tr>\n",
       "      <th>equal opportunity</th>\n",
       "      <td>0.146269</td>\n",
       "      <td>0.149684</td>\n",
       "    </tr>\n",
       "    <tr>\n",
       "      <th>equal odds</th>\n",
       "      <td>0.159813</td>\n",
       "      <td>0.173982</td>\n",
       "    </tr>\n",
       "  </tbody>\n",
       "</table>\n",
       "</div>"
      ],
      "text/plain": [
       "                    train loss  test loss\n",
       "predictor                                \n",
       "blind                 0.148613   0.148025\n",
       "max profit            0.144628   0.148517\n",
       "demographic parity    0.164686   0.168356\n",
       "equal opportunity     0.146269   0.149684\n",
       "equal odds            0.159813   0.173982"
      ]
     },
     "execution_count": 112,
     "metadata": {},
     "output_type": "execute_result"
    }
   ],
   "source": [
    "train_loss = loss_table.copy()\n",
    "train_loss.name = 'train loss'\n",
    "losses = pd.DataFrame(train_loss)\n",
    "losses.loc['max profit', 'test loss'] = 1 - mp_test_accuracy\n",
    "losses.loc['blind', 'test loss'] = 1 - bm_test_accuracy\n",
    "losses.loc['demographic parity', 'test loss'] = 1 - ed_test_accuracy\n",
    "losses.loc['equal opportunity', 'test loss'] = 1 - eopp_test_accuracy\n",
    "losses.loc['equal odds', 'test loss'] = eodd_test_loss\n",
    "losses"
   ]
  },
  {
   "cell_type": "code",
   "execution_count": 113,
   "metadata": {},
   "outputs": [
    {
     "name": "stdout",
     "output_type": "stream",
     "text": [
      "\\begin{tabular}{lrr}\n",
      "\\toprule\n",
      "{} &  train loss &  test loss \\\\\n",
      "predictor          &             &            \\\\\n",
      "\\midrule\n",
      "blind              &      0.1486 &     0.1480 \\\\\n",
      "max profit         &      0.1446 &     0.1485 \\\\\n",
      "demographic parity &      0.1647 &     0.1684 \\\\\n",
      "equal opportunity  &      0.1463 &     0.1497 \\\\\n",
      "equal odds         &      0.1598 &     0.1740 \\\\\n",
      "\\bottomrule\n",
      "\\end{tabular}\n",
      "\n"
     ]
    },
    {
     "name": "stderr",
     "output_type": "stream",
     "text": [
      "/var/folders/nc/dhtws2m1317bwzbsxq9n3_gc0000gn/T/ipykernel_79251/3063318810.py:1: FutureWarning: In future versions `DataFrame.to_latex` is expected to utilise the base implementation of `Styler.to_latex` for formatting and rendering. The arguments signature may therefore change. It is recommended instead to use `DataFrame.style.to_latex` which also contains additional functionality.\n",
      "  print(losses.to_latex(float_format='%.4f'))\n"
     ]
    }
   ],
   "source": [
    "print(losses.to_latex(float_format='%.4f'))"
   ]
  },
  {
   "cell_type": "code",
   "execution_count": 229,
   "metadata": {},
   "outputs": [
    {
     "name": "stderr",
     "output_type": "stream",
     "text": [
      "/Users/leevi/.pyenv/versions/3.10.4/envs/ml-venv/lib/python3.10/site-packages/sklearn/metrics/_ranking.py:1018: UndefinedMetricWarning: No positive samples in y_true, true positive value should be meaningless\n",
      "  warnings.warn(\n",
      "/Users/leevi/.pyenv/versions/3.10.4/envs/ml-venv/lib/python3.10/site-packages/sklearn/metrics/_ranking.py:1018: UndefinedMetricWarning: No positive samples in y_true, true positive value should be meaningless\n",
      "  warnings.warn(\n"
     ]
    },
    {
     "data": {
      "text/plain": [
       "<matplotlib.legend.Legend at 0x29928aad0>"
      ]
     },
     "execution_count": 229,
     "metadata": {},
     "output_type": "execute_result"
    },
    {
     "data": {
      "image/png": "[encoded data removed]",
      "text/plain": [
       "<Figure size 432x288 with 1 Axes>"
      ]
     },
     "metadata": {
      "needs_background": "light"
     },
     "output_type": "display_data"
    }
   ],
   "source": [
    "fig, ax = plt.subplots()\n",
    "\n",
    "for c, curve in enumerate(curves):\n",
    "    mask = labels_test == c\n",
    "    ps = probs_test[mask]\n",
    "    ys = y_test[mask]\n",
    "    fp, tp, th = metrics.roc_curve(ys, ps)\n",
    "    ax.plot(fp, tp, label=curve.label)\n",
    "\n",
    "ax.legend()"
   ]
  },
  {
   "cell_type": "code",
   "execution_count": 239,
   "metadata": {},
   "outputs": [
    {
     "data": {
      "text/html": [
       "<div>\n",
       "<style scoped>\n",
       "    .dataframe tbody tr th:only-of-type {\n",
       "        vertical-align: middle;\n",
       "    }\n",
       "\n",
       "    .dataframe tbody tr th {\n",
       "        vertical-align: top;\n",
       "    }\n",
       "\n",
       "    .dataframe thead th {\n",
       "        text-align: right;\n",
       "    }\n",
       "</style>\n",
       "<table border=\"1\" class=\"dataframe\">\n",
       "  <thead>\n",
       "    <tr style=\"text-align: right;\">\n",
       "      <th></th>\n",
       "      <th>age</th>\n",
       "      <th>education-num</th>\n",
       "      <th>capital-gain</th>\n",
       "      <th>capital-loss</th>\n",
       "      <th>hours-per-week</th>\n",
       "      <th>workclass_?</th>\n",
       "      <th>workclass_Federal-gov</th>\n",
       "      <th>workclass_Local-gov</th>\n",
       "      <th>workclass_Never-worked</th>\n",
       "      <th>workclass_Private</th>\n",
       "      <th>...</th>\n",
       "      <th>relationship_Not-in-family</th>\n",
       "      <th>relationship_Other-relative</th>\n",
       "      <th>relationship_Own-child</th>\n",
       "      <th>relationship_Unmarried</th>\n",
       "      <th>relationship_Wife</th>\n",
       "      <th>race_Amer-Indian-Eskimo</th>\n",
       "      <th>race_Asian-Pac-Islander</th>\n",
       "      <th>race_Black</th>\n",
       "      <th>race_Other</th>\n",
       "      <th>race_White</th>\n",
       "    </tr>\n",
       "  </thead>\n",
       "  <tbody>\n",
       "    <tr>\n",
       "      <th>count</th>\n",
       "      <td>32561.000000</td>\n",
       "      <td>32561.000000</td>\n",
       "      <td>32561.000000</td>\n",
       "      <td>32561.000000</td>\n",
       "      <td>32561.000000</td>\n",
       "      <td>32561.000000</td>\n",
       "      <td>32561.000000</td>\n",
       "      <td>32561.000000</td>\n",
       "      <td>32561.000000</td>\n",
       "      <td>32561.000000</td>\n",
       "      <td>...</td>\n",
       "      <td>32561.000000</td>\n",
       "      <td>32561.000000</td>\n",
       "      <td>32561.000000</td>\n",
       "      <td>32561.000000</td>\n",
       "      <td>32561.000000</td>\n",
       "      <td>32561.000000</td>\n",
       "      <td>32561.000000</td>\n",
       "      <td>32561.000000</td>\n",
       "      <td>32561.000000</td>\n",
       "      <td>32561.000000</td>\n",
       "    </tr>\n",
       "    <tr>\n",
       "      <th>mean</th>\n",
       "      <td>38.581647</td>\n",
       "      <td>10.080679</td>\n",
       "      <td>1077.648844</td>\n",
       "      <td>87.303830</td>\n",
       "      <td>40.437456</td>\n",
       "      <td>0.056386</td>\n",
       "      <td>0.029483</td>\n",
       "      <td>0.064279</td>\n",
       "      <td>0.000215</td>\n",
       "      <td>0.697030</td>\n",
       "      <td>...</td>\n",
       "      <td>0.255060</td>\n",
       "      <td>0.030128</td>\n",
       "      <td>0.155646</td>\n",
       "      <td>0.105832</td>\n",
       "      <td>0.048156</td>\n",
       "      <td>0.009551</td>\n",
       "      <td>0.031909</td>\n",
       "      <td>0.095943</td>\n",
       "      <td>0.008323</td>\n",
       "      <td>0.854274</td>\n",
       "    </tr>\n",
       "    <tr>\n",
       "      <th>std</th>\n",
       "      <td>13.640433</td>\n",
       "      <td>2.572720</td>\n",
       "      <td>7385.292085</td>\n",
       "      <td>402.960219</td>\n",
       "      <td>12.347429</td>\n",
       "      <td>0.230670</td>\n",
       "      <td>0.169159</td>\n",
       "      <td>0.245254</td>\n",
       "      <td>0.014661</td>\n",
       "      <td>0.459549</td>\n",
       "      <td>...</td>\n",
       "      <td>0.435901</td>\n",
       "      <td>0.170942</td>\n",
       "      <td>0.362525</td>\n",
       "      <td>0.307627</td>\n",
       "      <td>0.214099</td>\n",
       "      <td>0.097264</td>\n",
       "      <td>0.175761</td>\n",
       "      <td>0.294518</td>\n",
       "      <td>0.090851</td>\n",
       "      <td>0.352837</td>\n",
       "    </tr>\n",
       "    <tr>\n",
       "      <th>min</th>\n",
       "      <td>17.000000</td>\n",
       "      <td>1.000000</td>\n",
       "      <td>0.000000</td>\n",
       "      <td>0.000000</td>\n",
       "      <td>1.000000</td>\n",
       "      <td>0.000000</td>\n",
       "      <td>0.000000</td>\n",
       "      <td>0.000000</td>\n",
       "      <td>0.000000</td>\n",
       "      <td>0.000000</td>\n",
       "      <td>...</td>\n",
       "      <td>0.000000</td>\n",
       "      <td>0.000000</td>\n",
       "      <td>0.000000</td>\n",
       "      <td>0.000000</td>\n",
       "      <td>0.000000</td>\n",
       "      <td>0.000000</td>\n",
       "      <td>0.000000</td>\n",
       "      <td>0.000000</td>\n",
       "      <td>0.000000</td>\n",
       "      <td>0.000000</td>\n",
       "    </tr>\n",
       "    <tr>\n",
       "      <th>25%</th>\n",
       "      <td>28.000000</td>\n",
       "      <td>9.000000</td>\n",
       "      <td>0.000000</td>\n",
       "      <td>0.000000</td>\n",
       "      <td>40.000000</td>\n",
       "      <td>0.000000</td>\n",
       "      <td>0.000000</td>\n",
       "      <td>0.000000</td>\n",
       "      <td>0.000000</td>\n",
       "      <td>0.000000</td>\n",
       "      <td>...</td>\n",
       "      <td>0.000000</td>\n",
       "      <td>0.000000</td>\n",
       "      <td>0.000000</td>\n",
       "      <td>0.000000</td>\n",
       "      <td>0.000000</td>\n",
       "      <td>0.000000</td>\n",
       "      <td>0.000000</td>\n",
       "      <td>0.000000</td>\n",
       "      <td>0.000000</td>\n",
       "      <td>1.000000</td>\n",
       "    </tr>\n",
       "    <tr>\n",
       "      <th>50%</th>\n",
       "      <td>37.000000</td>\n",
       "      <td>10.000000</td>\n",
       "      <td>0.000000</td>\n",
       "      <td>0.000000</td>\n",
       "      <td>40.000000</td>\n",
       "      <td>0.000000</td>\n",
       "      <td>0.000000</td>\n",
       "      <td>0.000000</td>\n",
       "      <td>0.000000</td>\n",
       "      <td>1.000000</td>\n",
       "      <td>...</td>\n",
       "      <td>0.000000</td>\n",
       "      <td>0.000000</td>\n",
       "      <td>0.000000</td>\n",
       "      <td>0.000000</td>\n",
       "      <td>0.000000</td>\n",
       "      <td>0.000000</td>\n",
       "      <td>0.000000</td>\n",
       "      <td>0.000000</td>\n",
       "      <td>0.000000</td>\n",
       "      <td>1.000000</td>\n",
       "    </tr>\n",
       "    <tr>\n",
       "      <th>75%</th>\n",
       "      <td>48.000000</td>\n",
       "      <td>12.000000</td>\n",
       "      <td>0.000000</td>\n",
       "      <td>0.000000</td>\n",
       "      <td>45.000000</td>\n",
       "      <td>0.000000</td>\n",
       "      <td>0.000000</td>\n",
       "      <td>0.000000</td>\n",
       "      <td>0.000000</td>\n",
       "      <td>1.000000</td>\n",
       "      <td>...</td>\n",
       "      <td>1.000000</td>\n",
       "      <td>0.000000</td>\n",
       "      <td>0.000000</td>\n",
       "      <td>0.000000</td>\n",
       "      <td>0.000000</td>\n",
       "      <td>0.000000</td>\n",
       "      <td>0.000000</td>\n",
       "      <td>0.000000</td>\n",
       "      <td>0.000000</td>\n",
       "      <td>1.000000</td>\n",
       "    </tr>\n",
       "    <tr>\n",
       "      <th>max</th>\n",
       "      <td>90.000000</td>\n",
       "      <td>16.000000</td>\n",
       "      <td>99999.000000</td>\n",
       "      <td>4356.000000</td>\n",
       "      <td>99.000000</td>\n",
       "      <td>1.000000</td>\n",
       "      <td>1.000000</td>\n",
       "      <td>1.000000</td>\n",
       "      <td>1.000000</td>\n",
       "      <td>1.000000</td>\n",
       "      <td>...</td>\n",
       "      <td>1.000000</td>\n",
       "      <td>1.000000</td>\n",
       "      <td>1.000000</td>\n",
       "      <td>1.000000</td>\n",
       "      <td>1.000000</td>\n",
       "      <td>1.000000</td>\n",
       "      <td>1.000000</td>\n",
       "      <td>1.000000</td>\n",
       "      <td>1.000000</td>\n",
       "      <td>1.000000</td>\n",
       "    </tr>\n",
       "  </tbody>\n",
       "</table>\n",
       "<p>8 rows × 56 columns</p>\n",
       "</div>"
      ],
      "text/plain": [
       "                age  education-num  capital-gain  capital-loss  \\\n",
       "count  32561.000000   32561.000000  32561.000000  32561.000000   \n",
       "mean      38.581647      10.080679   1077.648844     87.303830   \n",
       "std       13.640433       2.572720   7385.292085    402.960219   \n",
       "min       17.000000       1.000000      0.000000      0.000000   \n",
       "25%       28.000000       9.000000      0.000000      0.000000   \n",
       "50%       37.000000      10.000000      0.000000      0.000000   \n",
       "75%       48.000000      12.000000      0.000000      0.000000   \n",
       "max       90.000000      16.000000  99999.000000   4356.000000   \n",
       "\n",
       "       hours-per-week   workclass_?  workclass_Federal-gov  \\\n",
       "count    32561.000000  32561.000000           32561.000000   \n",
       "mean        40.437456      0.056386               0.029483   \n",
       "std         12.347429      0.230670               0.169159   \n",
       "min          1.000000      0.000000               0.000000   \n",
       "25%         40.000000      0.000000               0.000000   \n",
       "50%         40.000000      0.000000               0.000000   \n",
       "75%         45.000000      0.000000               0.000000   \n",
       "max         99.000000      1.000000               1.000000   \n",
       "\n",
       "       workclass_Local-gov  workclass_Never-worked  workclass_Private  ...  \\\n",
       "count         32561.000000            32561.000000       32561.000000  ...   \n",
       "mean              0.064279                0.000215           0.697030  ...   \n",
       "std               0.245254                0.014661           0.459549  ...   \n",
       "min               0.000000                0.000000           0.000000  ...   \n",
       "25%               0.000000                0.000000           0.000000  ...   \n",
       "50%               0.000000                0.000000           1.000000  ...   \n",
       "75%               0.000000                0.000000           1.000000  ...   \n",
       "max               1.000000                1.000000           1.000000  ...   \n",
       "\n",
       "       relationship_Not-in-family  relationship_Other-relative  \\\n",
       "count                32561.000000                 32561.000000   \n",
       "mean                     0.255060                     0.030128   \n",
       "std                      0.435901                     0.170942   \n",
       "min                      0.000000                     0.000000   \n",
       "25%                      0.000000                     0.000000   \n",
       "50%                      0.000000                     0.000000   \n",
       "75%                      1.000000                     0.000000   \n",
       "max                      1.000000                     1.000000   \n",
       "\n",
       "       relationship_Own-child  relationship_Unmarried  relationship_Wife  \\\n",
       "count            32561.000000            32561.000000       32561.000000   \n",
       "mean                 0.155646                0.105832           0.048156   \n",
       "std                  0.362525                0.307627           0.214099   \n",
       "min                  0.000000                0.000000           0.000000   \n",
       "25%                  0.000000                0.000000           0.000000   \n",
       "50%                  0.000000                0.000000           0.000000   \n",
       "75%                  0.000000                0.000000           0.000000   \n",
       "max                  1.000000                1.000000           1.000000   \n",
       "\n",
       "       race_Amer-Indian-Eskimo  race_Asian-Pac-Islander    race_Black  \\\n",
       "count             32561.000000             32561.000000  32561.000000   \n",
       "mean                  0.009551                 0.031909      0.095943   \n",
       "std                   0.097264                 0.175761      0.294518   \n",
       "min                   0.000000                 0.000000      0.000000   \n",
       "25%                   0.000000                 0.000000      0.000000   \n",
       "50%                   0.000000                 0.000000      0.000000   \n",
       "75%                   0.000000                 0.000000      0.000000   \n",
       "max                   1.000000                 1.000000      1.000000   \n",
       "\n",
       "         race_Other    race_White  \n",
       "count  32561.000000  32561.000000  \n",
       "mean       0.008323      0.854274  \n",
       "std        0.090851      0.352837  \n",
       "min        0.000000      0.000000  \n",
       "25%        0.000000      1.000000  \n",
       "50%        0.000000      1.000000  \n",
       "75%        0.000000      1.000000  \n",
       "max        1.000000      1.000000  \n",
       "\n",
       "[8 rows x 56 columns]"
      ]
     },
     "execution_count": 239,
     "metadata": {},
     "output_type": "execute_result"
    }
   ],
   "source": [
    "x.describe()"
   ]
  },
  {
   "cell_type": "code",
   "execution_count": 240,
   "metadata": {},
   "outputs": [
    {
     "data": {
      "text/html": [
       "<div>\n",
       "<style scoped>\n",
       "    .dataframe tbody tr th:only-of-type {\n",
       "        vertical-align: middle;\n",
       "    }\n",
       "\n",
       "    .dataframe tbody tr th {\n",
       "        vertical-align: top;\n",
       "    }\n",
       "\n",
       "    .dataframe thead th {\n",
       "        text-align: right;\n",
       "    }\n",
       "</style>\n",
       "<table border=\"1\" class=\"dataframe\">\n",
       "  <thead>\n",
       "    <tr style=\"text-align: right;\">\n",
       "      <th></th>\n",
       "      <th>age</th>\n",
       "      <th>education-num</th>\n",
       "      <th>capital-gain</th>\n",
       "      <th>capital-loss</th>\n",
       "      <th>hours-per-week</th>\n",
       "      <th>workclass_?</th>\n",
       "      <th>workclass_Federal-gov</th>\n",
       "      <th>workclass_Local-gov</th>\n",
       "      <th>workclass_Never-worked</th>\n",
       "      <th>workclass_Private</th>\n",
       "      <th>...</th>\n",
       "      <th>relationship_Not-in-family</th>\n",
       "      <th>relationship_Other-relative</th>\n",
       "      <th>relationship_Own-child</th>\n",
       "      <th>relationship_Unmarried</th>\n",
       "      <th>relationship_Wife</th>\n",
       "      <th>race_Amer-Indian-Eskimo</th>\n",
       "      <th>race_Asian-Pac-Islander</th>\n",
       "      <th>race_Black</th>\n",
       "      <th>race_Other</th>\n",
       "      <th>race_White</th>\n",
       "    </tr>\n",
       "  </thead>\n",
       "  <tbody>\n",
       "    <tr>\n",
       "      <th>count</th>\n",
       "      <td>16281.000000</td>\n",
       "      <td>16281.000000</td>\n",
       "      <td>16281.000000</td>\n",
       "      <td>16281.000000</td>\n",
       "      <td>16281.000000</td>\n",
       "      <td>16281.000000</td>\n",
       "      <td>16281.000000</td>\n",
       "      <td>16281.000000</td>\n",
       "      <td>16281.000000</td>\n",
       "      <td>16281.000000</td>\n",
       "      <td>...</td>\n",
       "      <td>16281.000000</td>\n",
       "      <td>16281.000000</td>\n",
       "      <td>16281.000000</td>\n",
       "      <td>16281.000000</td>\n",
       "      <td>16281.000000</td>\n",
       "      <td>16281.000000</td>\n",
       "      <td>16281.000000</td>\n",
       "      <td>16281.000000</td>\n",
       "      <td>16281.000000</td>\n",
       "      <td>16281.000000</td>\n",
       "    </tr>\n",
       "    <tr>\n",
       "      <th>mean</th>\n",
       "      <td>38.767459</td>\n",
       "      <td>10.072907</td>\n",
       "      <td>1081.905104</td>\n",
       "      <td>87.899269</td>\n",
       "      <td>40.392236</td>\n",
       "      <td>0.059149</td>\n",
       "      <td>0.028991</td>\n",
       "      <td>0.064062</td>\n",
       "      <td>0.000184</td>\n",
       "      <td>0.688533</td>\n",
       "      <td>...</td>\n",
       "      <td>0.262760</td>\n",
       "      <td>0.032246</td>\n",
       "      <td>0.154352</td>\n",
       "      <td>0.103126</td>\n",
       "      <td>0.046864</td>\n",
       "      <td>0.009766</td>\n",
       "      <td>0.029482</td>\n",
       "      <td>0.095879</td>\n",
       "      <td>0.008292</td>\n",
       "      <td>0.856581</td>\n",
       "    </tr>\n",
       "    <tr>\n",
       "      <th>std</th>\n",
       "      <td>13.849187</td>\n",
       "      <td>2.567545</td>\n",
       "      <td>7583.935968</td>\n",
       "      <td>403.105286</td>\n",
       "      <td>12.479332</td>\n",
       "      <td>0.235910</td>\n",
       "      <td>0.167786</td>\n",
       "      <td>0.244872</td>\n",
       "      <td>0.013574</td>\n",
       "      <td>0.463108</td>\n",
       "      <td>...</td>\n",
       "      <td>0.440147</td>\n",
       "      <td>0.176659</td>\n",
       "      <td>0.361297</td>\n",
       "      <td>0.304133</td>\n",
       "      <td>0.211355</td>\n",
       "      <td>0.098342</td>\n",
       "      <td>0.169159</td>\n",
       "      <td>0.294434</td>\n",
       "      <td>0.090684</td>\n",
       "      <td>0.350510</td>\n",
       "    </tr>\n",
       "    <tr>\n",
       "      <th>min</th>\n",
       "      <td>17.000000</td>\n",
       "      <td>1.000000</td>\n",
       "      <td>0.000000</td>\n",
       "      <td>0.000000</td>\n",
       "      <td>1.000000</td>\n",
       "      <td>0.000000</td>\n",
       "      <td>0.000000</td>\n",
       "      <td>0.000000</td>\n",
       "      <td>0.000000</td>\n",
       "      <td>0.000000</td>\n",
       "      <td>...</td>\n",
       "      <td>0.000000</td>\n",
       "      <td>0.000000</td>\n",
       "      <td>0.000000</td>\n",
       "      <td>0.000000</td>\n",
       "      <td>0.000000</td>\n",
       "      <td>0.000000</td>\n",
       "      <td>0.000000</td>\n",
       "      <td>0.000000</td>\n",
       "      <td>0.000000</td>\n",
       "      <td>0.000000</td>\n",
       "    </tr>\n",
       "    <tr>\n",
       "      <th>25%</th>\n",
       "      <td>28.000000</td>\n",
       "      <td>9.000000</td>\n",
       "      <td>0.000000</td>\n",
       "      <td>0.000000</td>\n",
       "      <td>40.000000</td>\n",
       "      <td>0.000000</td>\n",
       "      <td>0.000000</td>\n",
       "      <td>0.000000</td>\n",
       "      <td>0.000000</td>\n",
       "      <td>0.000000</td>\n",
       "      <td>...</td>\n",
       "      <td>0.000000</td>\n",
       "      <td>0.000000</td>\n",
       "      <td>0.000000</td>\n",
       "      <td>0.000000</td>\n",
       "      <td>0.000000</td>\n",
       "      <td>0.000000</td>\n",
       "      <td>0.000000</td>\n",
       "      <td>0.000000</td>\n",
       "      <td>0.000000</td>\n",
       "      <td>1.000000</td>\n",
       "    </tr>\n",
       "    <tr>\n",
       "      <th>50%</th>\n",
       "      <td>37.000000</td>\n",
       "      <td>10.000000</td>\n",
       "      <td>0.000000</td>\n",
       "      <td>0.000000</td>\n",
       "      <td>40.000000</td>\n",
       "      <td>0.000000</td>\n",
       "      <td>0.000000</td>\n",
       "      <td>0.000000</td>\n",
       "      <td>0.000000</td>\n",
       "      <td>1.000000</td>\n",
       "      <td>...</td>\n",
       "      <td>0.000000</td>\n",
       "      <td>0.000000</td>\n",
       "      <td>0.000000</td>\n",
       "      <td>0.000000</td>\n",
       "      <td>0.000000</td>\n",
       "      <td>0.000000</td>\n",
       "      <td>0.000000</td>\n",
       "      <td>0.000000</td>\n",
       "      <td>0.000000</td>\n",
       "      <td>1.000000</td>\n",
       "    </tr>\n",
       "    <tr>\n",
       "      <th>75%</th>\n",
       "      <td>48.000000</td>\n",
       "      <td>12.000000</td>\n",
       "      <td>0.000000</td>\n",
       "      <td>0.000000</td>\n",
       "      <td>45.000000</td>\n",
       "      <td>0.000000</td>\n",
       "      <td>0.000000</td>\n",
       "      <td>0.000000</td>\n",
       "      <td>0.000000</td>\n",
       "      <td>1.000000</td>\n",
       "      <td>...</td>\n",
       "      <td>1.000000</td>\n",
       "      <td>0.000000</td>\n",
       "      <td>0.000000</td>\n",
       "      <td>0.000000</td>\n",
       "      <td>0.000000</td>\n",
       "      <td>0.000000</td>\n",
       "      <td>0.000000</td>\n",
       "      <td>0.000000</td>\n",
       "      <td>0.000000</td>\n",
       "      <td>1.000000</td>\n",
       "    </tr>\n",
       "    <tr>\n",
       "      <th>max</th>\n",
       "      <td>90.000000</td>\n",
       "      <td>16.000000</td>\n",
       "      <td>99999.000000</td>\n",
       "      <td>3770.000000</td>\n",
       "      <td>99.000000</td>\n",
       "      <td>1.000000</td>\n",
       "      <td>1.000000</td>\n",
       "      <td>1.000000</td>\n",
       "      <td>1.000000</td>\n",
       "      <td>1.000000</td>\n",
       "      <td>...</td>\n",
       "      <td>1.000000</td>\n",
       "      <td>1.000000</td>\n",
       "      <td>1.000000</td>\n",
       "      <td>1.000000</td>\n",
       "      <td>1.000000</td>\n",
       "      <td>1.000000</td>\n",
       "      <td>1.000000</td>\n",
       "      <td>1.000000</td>\n",
       "      <td>1.000000</td>\n",
       "      <td>1.000000</td>\n",
       "    </tr>\n",
       "  </tbody>\n",
       "</table>\n",
       "<p>8 rows × 56 columns</p>\n",
       "</div>"
      ],
      "text/plain": [
       "                age  education-num  capital-gain  capital-loss  \\\n",
       "count  16281.000000   16281.000000  16281.000000  16281.000000   \n",
       "mean      38.767459      10.072907   1081.905104     87.899269   \n",
       "std       13.849187       2.567545   7583.935968    403.105286   \n",
       "min       17.000000       1.000000      0.000000      0.000000   \n",
       "25%       28.000000       9.000000      0.000000      0.000000   \n",
       "50%       37.000000      10.000000      0.000000      0.000000   \n",
       "75%       48.000000      12.000000      0.000000      0.000000   \n",
       "max       90.000000      16.000000  99999.000000   3770.000000   \n",
       "\n",
       "       hours-per-week   workclass_?  workclass_Federal-gov  \\\n",
       "count    16281.000000  16281.000000           16281.000000   \n",
       "mean        40.392236      0.059149               0.028991   \n",
       "std         12.479332      0.235910               0.167786   \n",
       "min          1.000000      0.000000               0.000000   \n",
       "25%         40.000000      0.000000               0.000000   \n",
       "50%         40.000000      0.000000               0.000000   \n",
       "75%         45.000000      0.000000               0.000000   \n",
       "max         99.000000      1.000000               1.000000   \n",
       "\n",
       "       workclass_Local-gov  workclass_Never-worked  workclass_Private  ...  \\\n",
       "count         16281.000000            16281.000000       16281.000000  ...   \n",
       "mean              0.064062                0.000184           0.688533  ...   \n",
       "std               0.244872                0.013574           0.463108  ...   \n",
       "min               0.000000                0.000000           0.000000  ...   \n",
       "25%               0.000000                0.000000           0.000000  ...   \n",
       "50%               0.000000                0.000000           1.000000  ...   \n",
       "75%               0.000000                0.000000           1.000000  ...   \n",
       "max               1.000000                1.000000           1.000000  ...   \n",
       "\n",
       "       relationship_Not-in-family  relationship_Other-relative  \\\n",
       "count                16281.000000                 16281.000000   \n",
       "mean                     0.262760                     0.032246   \n",
       "std                      0.440147                     0.176659   \n",
       "min                      0.000000                     0.000000   \n",
       "25%                      0.000000                     0.000000   \n",
       "50%                      0.000000                     0.000000   \n",
       "75%                      1.000000                     0.000000   \n",
       "max                      1.000000                     1.000000   \n",
       "\n",
       "       relationship_Own-child  relationship_Unmarried  relationship_Wife  \\\n",
       "count            16281.000000            16281.000000       16281.000000   \n",
       "mean                 0.154352                0.103126           0.046864   \n",
       "std                  0.361297                0.304133           0.211355   \n",
       "min                  0.000000                0.000000           0.000000   \n",
       "25%                  0.000000                0.000000           0.000000   \n",
       "50%                  0.000000                0.000000           0.000000   \n",
       "75%                  0.000000                0.000000           0.000000   \n",
       "max                  1.000000                1.000000           1.000000   \n",
       "\n",
       "       race_Amer-Indian-Eskimo  race_Asian-Pac-Islander    race_Black  \\\n",
       "count             16281.000000             16281.000000  16281.000000   \n",
       "mean                  0.009766                 0.029482      0.095879   \n",
       "std                   0.098342                 0.169159      0.294434   \n",
       "min                   0.000000                 0.000000      0.000000   \n",
       "25%                   0.000000                 0.000000      0.000000   \n",
       "50%                   0.000000                 0.000000      0.000000   \n",
       "75%                   0.000000                 0.000000      0.000000   \n",
       "max                   1.000000                 1.000000      1.000000   \n",
       "\n",
       "         race_Other    race_White  \n",
       "count  16281.000000  16281.000000  \n",
       "mean       0.008292      0.856581  \n",
       "std        0.090684      0.350510  \n",
       "min        0.000000      0.000000  \n",
       "25%        0.000000      1.000000  \n",
       "50%        0.000000      1.000000  \n",
       "75%        0.000000      1.000000  \n",
       "max        1.000000      1.000000  \n",
       "\n",
       "[8 rows x 56 columns]"
      ]
     },
     "execution_count": 240,
     "metadata": {},
     "output_type": "execute_result"
    }
   ],
   "source": [
    "x_test.describe()"
   ]
  },
  {
   "cell_type": "code",
   "execution_count": 243,
   "metadata": {},
   "outputs": [
    {
     "name": "stderr",
     "output_type": "stream",
     "text": [
      "24838.48s - pydevd: Sending message related to process being replaced timed-out after 5 seconds\n"
     ]
    },
    {
     "name": "stdout",
     "output_type": "stream",
     "text": [
      "Collecting seaborn\n",
      "  Downloading seaborn-0.12.1-py3-none-any.whl (288 kB)\n",
      "\u001b[2K     \u001b[38;2;114;156;31m━━━━━━━━━━━━━━━━━━━━━━━━━━━━━━━━━━━━━━━\u001b[0m \u001b[32m288.2/288.2 kB\u001b[0m \u001b[31m2.8 MB/s\u001b[0m eta \u001b[36m0:00:00\u001b[0m MB/s\u001b[0m eta \u001b[36m0:00:01\u001b[0m\n",
      "\u001b[?25hRequirement already satisfied: matplotlib!=3.6.1,>=3.1 in /Users/leevi/.pyenv/versions/3.10.4/envs/ml-venv/lib/python3.10/site-packages (from seaborn) (3.5.3)\n",
      "Requirement already satisfied: numpy>=1.17 in /Users/leevi/.pyenv/versions/3.10.4/envs/ml-venv/lib/python3.10/site-packages (from seaborn) (1.23.2)\n",
      "Requirement already satisfied: pandas>=0.25 in /Users/leevi/.pyenv/versions/3.10.4/envs/ml-venv/lib/python3.10/site-packages (from seaborn) (1.4.3)\n",
      "Requirement already satisfied: pillow>=6.2.0 in /Users/leevi/.pyenv/versions/3.10.4/envs/ml-venv/lib/python3.10/site-packages (from matplotlib!=3.6.1,>=3.1->seaborn) (9.2.0)\n",
      "Requirement already satisfied: fonttools>=4.22.0 in /Users/leevi/.pyenv/versions/3.10.4/envs/ml-venv/lib/python3.10/site-packages (from matplotlib!=3.6.1,>=3.1->seaborn) (4.35.0)\n",
      "Requirement already satisfied: python-dateutil>=2.7 in /Users/leevi/.pyenv/versions/3.10.4/envs/ml-venv/lib/python3.10/site-packages (from matplotlib!=3.6.1,>=3.1->seaborn) (2.8.2)\n",
      "Requirement already satisfied: pyparsing>=2.2.1 in /Users/leevi/.pyenv/versions/3.10.4/envs/ml-venv/lib/python3.10/site-packages (from matplotlib!=3.6.1,>=3.1->seaborn) (3.0.9)\n",
      "Requirement already satisfied: packaging>=20.0 in /Users/leevi/.pyenv/versions/3.10.4/envs/ml-venv/lib/python3.10/site-packages (from matplotlib!=3.6.1,>=3.1->seaborn) (21.3)\n",
      "Requirement already satisfied: kiwisolver>=1.0.1 in /Users/leevi/.pyenv/versions/3.10.4/envs/ml-venv/lib/python3.10/site-packages (from matplotlib!=3.6.1,>=3.1->seaborn) (1.4.4)\n",
      "Requirement already satisfied: cycler>=0.10 in /Users/leevi/.pyenv/versions/3.10.4/envs/ml-venv/lib/python3.10/site-packages (from matplotlib!=3.6.1,>=3.1->seaborn) (0.11.0)\n",
      "Requirement already satisfied: pytz>=2020.1 in /Users/leevi/.pyenv/versions/3.10.4/envs/ml-venv/lib/python3.10/site-packages (from pandas>=0.25->seaborn) (2022.2.1)\n",
      "Requirement already satisfied: six>=1.5 in /Users/leevi/.pyenv/versions/3.10.4/envs/ml-venv/lib/python3.10/site-packages (from python-dateutil>=2.7->matplotlib!=3.6.1,>=3.1->seaborn) (1.16.0)\n",
      "Installing collected packages: seaborn\n",
      "Successfully installed seaborn-0.12.1\n",
      "\n",
      "\u001b[1m[\u001b[0m\u001b[34;49mnotice\u001b[0m\u001b[1;39;49m]\u001b[0m\u001b[39;49m A new release of pip available: \u001b[0m\u001b[31;49m22.2.2\u001b[0m\u001b[39;49m -> \u001b[0m\u001b[32;49m22.3.1\u001b[0m\n",
      "\u001b[1m[\u001b[0m\u001b[34;49mnotice\u001b[0m\u001b[1;39;49m]\u001b[0m\u001b[39;49m To update, run: \u001b[0m\u001b[32;49mpip install --upgrade pip\u001b[0m\n",
      "Note: you may need to restart the kernel to use updated packages.\n"
     ]
    }
   ],
   "source": [
    "%pip install seaborn"
   ]
  },
  {
   "cell_type": "code",
   "execution_count": 244,
   "metadata": {},
   "outputs": [],
   "source": [
    "import seaborn as sns"
   ]
  },
  {
   "cell_type": "code",
   "execution_count": 245,
   "metadata": {},
   "outputs": [
    {
     "data": {
      "text/plain": [
       "<AxesSubplot:ylabel='Density'>"
      ]
     },
     "execution_count": 245,
     "metadata": {},
     "output_type": "execute_result"
    },
    {
     "data": {
      "image/png": "[encoded data removed]",
      "text/plain": [
       "<Figure size 432x288 with 1 Axes>"
      ]
     },
     "metadata": {
      "needs_background": "light"
     },
     "output_type": "display_data"
    }
   ],
   "source": [
    "sns.kdeplot(probs)"
   ]
  },
  {
   "cell_type": "code",
   "execution_count": 246,
   "metadata": {},
   "outputs": [
    {
     "data": {
      "text/plain": [
       "<AxesSubplot:ylabel='Density'>"
      ]
     },
     "execution_count": 246,
     "metadata": {},
     "output_type": "execute_result"
    },
    {
     "data": {
      "image/png": "[encoded data removed]",
      "text/plain": [
       "<Figure size 432x288 with 1 Axes>"
      ]
     },
     "metadata": {
      "needs_background": "light"
     },
     "output_type": "display_data"
    }
   ],
   "source": [
    "sns.kdeplot(probs_test)"
   ]
  },
  {
   "cell_type": "code",
   "execution_count": 251,
   "metadata": {},
   "outputs": [
    {
     "data": {
      "text/plain": [
       "0.0"
      ]
     },
     "execution_count": 251,
     "metadata": {},
     "output_type": "execute_result"
    }
   ],
   "source": [
    "y_test.mean()"
   ]
  },
  {
   "cell_type": "code",
   "execution_count": 249,
   "metadata": {},
   "outputs": [
    {
     "data": {
      "text/plain": [
       "<AxesSubplot:>"
      ]
     },
     "execution_count": 249,
     "metadata": {},
     "output_type": "execute_result"
    },
    {
     "data": {
      "image/png": "[encoded data removed]",
      "text/plain": [
       "<Figure size 432x288 with 1 Axes>"
      ]
     },
     "metadata": {
      "needs_background": "light"
     },
     "output_type": "display_data"
    }
   ],
   "source": [
    "sns.kdeplot(probs_test[y_test == 1])"
   ]
  },
  {
   "cell_type": "code",
   "execution_count": 248,
   "metadata": {},
   "outputs": [
    {
     "data": {
      "text/plain": [
       "<AxesSubplot:ylabel='Density'>"
      ]
     },
     "execution_count": 248,
     "metadata": {},
     "output_type": "execute_result"
    },
    {
     "data": {
      "image/png": "[encoded data removed]",
      "text/plain": [
       "<Figure size 432x288 with 1 Axes>"
      ]
     },
     "metadata": {
      "needs_background": "light"
     },
     "output_type": "display_data"
    }
   ],
   "source": [
    "sns.kdeplot(probs[y == 1])\n",
    "sns.kdeplot(probs_test[y_test == 1])"
   ]
  }
 ],
 "metadata": {
  "kernelspec": {
   "display_name": "ml-venv",
   "language": "python",
   "name": "python3"
  },
  "language_info": {
   "codemirror_mode": {
    "name": "ipython",
    "version": 3
   },
   "file_extension": ".py",
   "mimetype": "text/x-python",
   "name": "python",
   "nbconvert_exporter": "python",
   "pygments_lexer": "ipython3",
   "version": "3.10.4"
  },
  "orig_nbformat": 4,
  "vscode": {
   "interpreter": {
    "hash": "165cbcba0d07a02053b0bc92fa7b928310d357c23558db40a80716015a2ca901"
   }
  }
 },
 "nbformat": 4,
 "nbformat_minor": 2
}
