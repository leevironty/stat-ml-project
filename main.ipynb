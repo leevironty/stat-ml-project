{
 "cells": [
  {
   "cell_type": "code",
   "execution_count": 1,
   "metadata": {},
   "outputs": [],
   "source": [
    "%load_ext autoreload\n",
    "%autoreload 2\n",
    "\n",
    "import pandas as pd\n",
    "import numpy as np\n",
    "import sklearn.linear_model as linear\n",
    "import sklearn.preprocessing as pre\n",
    "import sklearn.metrics as metrics\n",
    "import matplotlib.pyplot as plt\n",
    "import time\n",
    "import warnings\n",
    "from typing import overload, Callable\n",
    "from dataclasses import dataclass\n",
    "\n",
    "from main import (\n",
    "    Curve,\n",
    "    get_curves,\n",
    "    loss,\n",
    "    max_profit,\n",
    "    convexify,\n",
    "    lookup_to_tp_fp,\n",
    "    ternary_search,\n",
    "    equal_demographic,\n",
    "    equal_odds,\n",
    "    equal_opportunity,\n",
    "    preprocess,\n",
    "    intersection_threshold\n",
    ")"
   ]
  },
  {
   "cell_type": "code",
   "execution_count": 2,
   "metadata": {},
   "outputs": [],
   "source": [
    "with open('adult.names') as file:\n",
    "    rows = file.read().split('\\n')[-15:]\n",
    "    col_names = [row.split(':')[0] for row in rows][:-1] + ['label']\n",
    "\n",
    "x, y, labels, label_map = preprocess(\n",
    "    fname='adult.data',\n",
    "    col_names=col_names,\n",
    "    protected='sex'\n",
    ")"
   ]
  },
  {
   "cell_type": "code",
   "execution_count": 3,
   "metadata": {},
   "outputs": [
    {
     "name": "stderr",
     "output_type": "stream",
     "text": [
      "[Parallel(n_jobs=1)]: Using backend SequentialBackend with 1 concurrent workers.\n",
      " This problem is unconstrained.\n"
     ]
    },
    {
     "name": "stdout",
     "output_type": "stream",
     "text": [
      "RUNNING THE L-BFGS-B CODE\n",
      "\n",
      "           * * *\n",
      "\n",
      "Machine precision = 2.220D-16\n",
      " N =           57     M =           10\n",
      "\n",
      "At X0         0 variables are exactly at the bounds\n",
      "\n",
      "At iterate    0    f=  2.25696D+04    |proj g|=  1.38675D+07\n",
      "\n",
      "At iterate   50    f=  1.64789D+04    |proj g|=  3.29235D+04\n",
      "\n",
      "At iterate  100    f=  1.22304D+04    |proj g|=  8.14002D+04\n",
      "\n",
      "At iterate  150    f=  1.11946D+04    |proj g|=  4.94400D+03\n",
      "\n",
      "At iterate  200    f=  1.07759D+04    |proj g|=  9.29299D+03\n",
      "\n",
      "At iterate  250    f=  1.07487D+04    |proj g|=  5.94089D+03\n",
      "\n",
      "At iterate  300    f=  1.06717D+04    |proj g|=  8.49872D+03\n",
      "\n",
      "At iterate  350    f=  1.06242D+04    |proj g|=  1.74821D+04\n",
      "\n",
      "At iterate  400    f=  1.06230D+04    |proj g|=  2.84975D+03\n",
      "\n",
      "At iterate  450    f=  1.06204D+04    |proj g|=  1.68495D+03\n",
      "\n",
      "At iterate  500    f=  1.06181D+04    |proj g|=  4.52057D+03\n",
      "\n",
      "At iterate  550    f=  1.06085D+04    |proj g|=  8.27134D+03\n",
      "\n",
      "At iterate  600    f=  1.06022D+04    |proj g|=  2.28090D+04\n",
      "\n",
      "At iterate  650    f=  1.05976D+04    |proj g|=  6.47323D+02\n",
      "\n",
      "At iterate  700    f=  1.05548D+04    |proj g|=  8.95244D+03\n",
      "\n",
      "At iterate  750    f=  1.05401D+04    |proj g|=  1.84353D+04\n",
      "\n",
      "At iterate  800    f=  1.05380D+04    |proj g|=  2.66025D+02\n",
      "\n",
      "At iterate  850    f=  1.05362D+04    |proj g|=  3.55549D+04\n",
      "\n",
      "At iterate  900    f=  1.05335D+04    |proj g|=  9.44865D+03\n",
      "\n",
      "At iterate  950    f=  1.05267D+04    |proj g|=  7.03507D+02\n",
      "\n",
      "At iterate 1000    f=  1.05260D+04    |proj g|=  1.81235D+03\n",
      "\n",
      "At iterate 1050    f=  1.05221D+04    |proj g|=  6.85739D+02\n",
      "\n",
      "At iterate 1100    f=  1.05214D+04    |proj g|=  5.32796D+02\n",
      "\n",
      "At iterate 1150    f=  1.05082D+04    |proj g|=  1.08607D+03\n",
      "\n",
      "At iterate 1200    f=  1.05015D+04    |proj g|=  3.31392D+03\n",
      "\n",
      "           * * *\n",
      "\n",
      "Tit   = total number of iterations\n",
      "Tnf   = total number of function evaluations\n",
      "Tnint = total number of segments explored during Cauchy searches\n",
      "Skip  = number of BFGS updates skipped\n",
      "Nact  = number of active bounds at final generalized Cauchy point\n",
      "Projg = norm of the final projected gradient\n",
      "F     = final function value\n",
      "\n",
      "           * * *\n",
      "\n",
      "   N    Tit     Tnf  Tnint  Skip  Nact     Projg        F\n",
      "   57   1244   1450      1     0     0   2.717D+02   1.050D+04\n",
      "  F =   10501.427172403697     \n",
      "\n",
      "CONVERGENCE: REL_REDUCTION_OF_F_<=_FACTR*EPSMCH             \n",
      "base model score: 0.8515094745247381\n"
     ]
    },
    {
     "name": "stderr",
     "output_type": "stream",
     "text": [
      "[Parallel(n_jobs=1)]: Done   1 out of   1 | elapsed:    6.5s finished\n",
      "/Users/leevi/repos/stat-ml-project/main.py:119: RuntimeWarning: divide by zero encountered in divide\n",
      "  slopes = np.diff(tp) / np.diff(fp)\n",
      "/Users/leevi/repos/stat-ml-project/main.py:119: RuntimeWarning: divide by zero encountered in divide\n",
      "  slopes = np.diff(tp) / np.diff(fp)\n"
     ]
    }
   ],
   "source": [
    "model = linear.LogisticRegression(penalty='none', max_iter=2000, verbose=True)\n",
    "with warnings.catch_warnings():\n",
    "    warnings.filterwarnings('error')\n",
    "    try:\n",
    "        model.fit(x, y)\n",
    "    except Warning as w:\n",
    "        print(w)\n",
    "        exit(1)\n",
    "probs = model.predict_proba(x)[:, 1]  # probability of y = 1\n",
    "print(f'base model score: {model.score(x, y)}')\n",
    "curves = get_curves(probs, labels, label_map, y)"
   ]
  },
  {
   "cell_type": "code",
   "execution_count": 4,
   "metadata": {},
   "outputs": [
    {
     "data": {
      "text/plain": [
       "0.5029358337814798"
      ]
     },
     "execution_count": 4,
     "metadata": {},
     "output_type": "execute_result"
    }
   ],
   "source": [
    "# check blind model max\n",
    "fpr, tpr, th = metrics.roc_curve(y, probs)\n",
    "i = loss(tpr, fpr, y.mean()).argmin()\n",
    "bm = tpr[i], fpr[i], th[i]\n",
    "th[i]"
   ]
  },
  {
   "cell_type": "code",
   "execution_count": 20,
   "metadata": {},
   "outputs": [
    {
     "name": "stdout",
     "output_type": "stream",
     "text": [
      "max profit: (array([0.50299862, 0.51757613]), array([0.60927649, 0.50890585]), array([0.09485722, 0.02126772]))\n",
      "0.15968794499663552\n",
      "equal demographic: (array([[0.67475601, 0.63130422],\n",
      "       [0.2287213 , 0.22034834]]), array([0.43493739, 0.77523303]), array([0.03847484, 0.08402826]), 0.15968794499663552, array([0.66873575, 0.22034861]))\n",
      "0.5633445124641188\n",
      "equal opportunity: (array([[0.54797703, 0.50299862],\n",
      "       [0.45219853, 0.4199356 ]]), array([0.56334451, 0.56334451]), array([0.07608415, 0.02901264]), 0.5633445124641188, array([0.54797687, 0.45188748]))\n",
      "equal odds: (0.5250673141627535, 0.06326010647013411)\n"
     ]
    }
   ],
   "source": [
    "mp = max_profit(curves)\n",
    "print(f'max profit: {mp}')\n",
    "\n",
    "ed = equal_demographic(curves)\n",
    "print(f'equal demographic: {ed}')\n",
    "\n",
    "eopp = equal_opportunity(curves)\n",
    "print(f'equal opportunity: {eopp}')\n",
    "\n",
    "eodd = equal_odds(curves)\n",
    "print(f'equal odds: {eodd}')"
   ]
  },
  {
   "cell_type": "code",
   "execution_count": 6,
   "metadata": {},
   "outputs": [
    {
     "name": "stdout",
     "output_type": "stream",
     "text": [
      "[0.30573658 0.10946059]\n",
      "[0.66920549 0.33079451]\n"
     ]
    }
   ],
   "source": [
    "pis = np.array([curve.pi for curve in curves])\n",
    "shares = np.array([curve.share for curve in curves])\n",
    "print(pis)\n",
    "print(shares)"
   ]
  },
  {
   "cell_type": "code",
   "execution_count": 7,
   "metadata": {},
   "outputs": [
    {
     "data": {
      "text/plain": [
       "0.5029358337814798"
      ]
     },
     "execution_count": 7,
     "metadata": {},
     "output_type": "execute_result"
    }
   ],
   "source": [
    "bm[2]"
   ]
  },
  {
   "cell_type": "code",
   "execution_count": 8,
   "metadata": {},
   "outputs": [
    {
     "data": {
      "text/plain": [
       "predictor\n",
       "blind                 0.148245\n",
       "max profit            0.148061\n",
       "demographic parity    0.166380\n",
       "equal opportunity     0.149047\n",
       "equal odds            0.162395\n",
       "Name: loss, dtype: float64"
      ]
     },
     "execution_count": 8,
     "metadata": {},
     "output_type": "execute_result"
    }
   ],
   "source": [
    "# tabulate losses\n",
    "loss_table = pd.Series(\n",
    "    data={\n",
    "        'blind': 1 - ((probs >= bm[2]) * 1 == y).mean(),\n",
    "        'max profit': loss(mp[1], mp[2], pis).dot(shares),\n",
    "        'demographic parity': loss(ed[1], ed[2], pis).dot(shares),\n",
    "        'equal opportunity': loss(eopp[1], eopp[2], pis).dot(shares),\n",
    "        'equal odds': loss(eodd[0], eodd[1], pis).dot(shares),\n",
    "    }\n",
    ")\n",
    "loss_table.index.name = 'predictor'\n",
    "loss_table.name = 'loss'\n",
    "loss_table"
   ]
  },
  {
   "cell_type": "code",
   "execution_count": 9,
   "metadata": {},
   "outputs": [
    {
     "name": "stderr",
     "output_type": "stream",
     "text": [
      "/var/folders/nc/dhtws2m1317bwzbsxq9n3_gc0000gn/T/ipykernel_1900/494938161.py:1: FutureWarning: In future versions `DataFrame.to_latex` is expected to utilise the base implementation of `Styler.to_latex` for formatting and rendering. The arguments signature may therefore change. It is recommended instead to use `DataFrame.style.to_latex` which also contains additional functionality.\n",
      "  loss_table.to_latex('loss.tex', float_format='%.4f')\n"
     ]
    }
   ],
   "source": [
    "loss_table.to_latex('loss.tex', float_format='%.4f')"
   ]
  },
  {
   "cell_type": "code",
   "execution_count": 72,
   "metadata": {},
   "outputs": [
    {
     "name": "stdout",
     "output_type": "stream",
     "text": [
      "\\begin{tabular}{lr}\n",
      "\\toprule\n",
      "{} &   loss \\\\\n",
      "predictor          &        \\\\\n",
      "\\midrule\n",
      "blind              & 0.1482 \\\\\n",
      "max profit         & 0.1481 \\\\\n",
      "demographic parity & 0.1664 \\\\\n",
      "equal opportunity  & 0.1490 \\\\\n",
      "equal odds         & 0.1624 \\\\\n",
      "\\bottomrule\n",
      "\\end{tabular}\n"
     ]
    }
   ],
   "source": [
    "!cat loss.tex"
   ]
  },
  {
   "cell_type": "code",
   "execution_count": 10,
   "metadata": {},
   "outputs": [
    {
     "data": {
      "text/plain": [
       "array([0.50299862, 0.51757613])"
      ]
     },
     "execution_count": 10,
     "metadata": {},
     "output_type": "execute_result"
    }
   ],
   "source": [
    "# max profit thresholds\n",
    "mp[0]"
   ]
  },
  {
   "cell_type": "code",
   "execution_count": 11,
   "metadata": {},
   "outputs": [
    {
     "data": {
      "text/plain": [
       "array([[0.67475601, 0.63130422],\n",
       "       [0.2287213 , 0.22034834]])"
      ]
     },
     "execution_count": 11,
     "metadata": {},
     "output_type": "execute_result"
    }
   ],
   "source": [
    "# equal demographic thresholds\n",
    "ed[0]"
   ]
  },
  {
   "cell_type": "code",
   "execution_count": 12,
   "metadata": {},
   "outputs": [
    {
     "data": {
      "text/plain": [
       "array([[0.54797703, 0.50299862],\n",
       "       [0.45219853, 0.4199356 ]])"
      ]
     },
     "execution_count": 12,
     "metadata": {},
     "output_type": "execute_result"
    }
   ],
   "source": [
    "# equal opportunity thresholds\n",
    "eopp[0]"
   ]
  },
  {
   "cell_type": "code",
   "execution_count": 19,
   "metadata": {},
   "outputs": [
    {
     "data": {
      "text/plain": [
       "(array([[0.67475601, 0.63130422],\n",
       "        [0.2287213 , 0.22034834]]),\n",
       " array([0.43493739, 0.77523303]),\n",
       " array([0.03847484, 0.08402826]),\n",
       " 0.15968794499663552,\n",
       " 0.22034861065134437)"
      ]
     },
     "execution_count": 19,
     "metadata": {},
     "output_type": "execute_result"
    }
   ],
   "source": [
    "ed"
   ]
  },
  {
   "cell_type": "code",
   "execution_count": 52,
   "metadata": {},
   "outputs": [
    {
     "data": {
      "text/html": [
       "<div>\n",
       "<style scoped>\n",
       "    .dataframe tbody tr th:only-of-type {\n",
       "        vertical-align: middle;\n",
       "    }\n",
       "\n",
       "    .dataframe tbody tr th {\n",
       "        vertical-align: top;\n",
       "    }\n",
       "\n",
       "    .dataframe thead th {\n",
       "        text-align: right;\n",
       "    }\n",
       "</style>\n",
       "<table border=\"1\" class=\"dataframe\">\n",
       "  <thead>\n",
       "    <tr style=\"text-align: right;\">\n",
       "      <th></th>\n",
       "      <th>Male</th>\n",
       "      <th>Female</th>\n",
       "    </tr>\n",
       "    <tr>\n",
       "      <th>predictor</th>\n",
       "      <th></th>\n",
       "      <th></th>\n",
       "    </tr>\n",
       "  </thead>\n",
       "  <tbody>\n",
       "    <tr>\n",
       "      <th>max profit</th>\n",
       "      <td>0.502999</td>\n",
       "      <td>0.517576</td>\n",
       "    </tr>\n",
       "    <tr>\n",
       "      <th>blind</th>\n",
       "      <td>0.502936</td>\n",
       "      <td>0.502936</td>\n",
       "    </tr>\n",
       "    <tr>\n",
       "      <th>equal opportunity</th>\n",
       "      <td>0.547977</td>\n",
       "      <td>0.451887</td>\n",
       "    </tr>\n",
       "    <tr>\n",
       "      <th>demographic parity</th>\n",
       "      <td>0.668736</td>\n",
       "      <td>0.220349</td>\n",
       "    </tr>\n",
       "  </tbody>\n",
       "</table>\n",
       "</div>"
      ],
      "text/plain": [
       "                        Male    Female\n",
       "predictor                             \n",
       "max profit          0.502999  0.517576\n",
       "blind               0.502936  0.502936\n",
       "equal opportunity   0.547977  0.451887\n",
       "demographic parity  0.668736  0.220349"
      ]
     },
     "execution_count": 52,
     "metadata": {},
     "output_type": "execute_result"
    }
   ],
   "source": [
    "thresholds = pd.DataFrame(data={\n",
    "    'max profit': mp[0],\n",
    "    'blind': bm[2],\n",
    "    'equal opportunity': eopp[4],\n",
    "    'demographic parity': ed[-1],\n",
    "}, index=label_map)\n",
    "thresholds = thresholds.transpose()\n",
    "thresholds.index.name = 'predictor'\n",
    "thresholds.name = 'thresholds'\n",
    "thresholds\n"
   ]
  },
  {
   "cell_type": "code",
   "execution_count": 27,
   "metadata": {},
   "outputs": [
    {
     "name": "stdout",
     "output_type": "stream",
     "text": [
      "\\begin{tabular}{lrr}\n",
      "\\toprule\n",
      "{} &   Male &  Female \\\\\n",
      "predictor          &        &         \\\\\n",
      "\\midrule\n",
      "blind              & 0.5029 &  0.5029 \\\\\n",
      "max profit         & 0.5030 &  0.5176 \\\\\n",
      "demographic parity & 0.6687 &  0.2203 \\\\\n",
      "equal opportunity  & 0.5480 &  0.4519 \\\\\n",
      "\\bottomrule\n",
      "\\end{tabular}\n",
      "\n"
     ]
    },
    {
     "name": "stderr",
     "output_type": "stream",
     "text": [
      "/var/folders/nc/dhtws2m1317bwzbsxq9n3_gc0000gn/T/ipykernel_1900/856907552.py:1: FutureWarning: In future versions `DataFrame.to_latex` is expected to utilise the base implementation of `Styler.to_latex` for formatting and rendering. The arguments signature may therefore change. It is recommended instead to use `DataFrame.style.to_latex` which also contains additional functionality.\n",
      "  print(thresholds.to_latex(float_format='%.4f'))\n"
     ]
    }
   ],
   "source": [
    "print(thresholds.to_latex(float_format='%.4f'))"
   ]
  },
  {
   "cell_type": "code",
   "execution_count": 100,
   "metadata": {},
   "outputs": [
    {
     "data": {
      "text/html": [
       "<div>\n",
       "<style scoped>\n",
       "    .dataframe tbody tr th:only-of-type {\n",
       "        vertical-align: middle;\n",
       "    }\n",
       "\n",
       "    .dataframe tbody tr th {\n",
       "        vertical-align: top;\n",
       "    }\n",
       "\n",
       "    .dataframe thead th {\n",
       "        text-align: right;\n",
       "    }\n",
       "</style>\n",
       "<table border=\"1\" class=\"dataframe\">\n",
       "  <thead>\n",
       "    <tr style=\"text-align: right;\">\n",
       "      <th></th>\n",
       "      <th>Male</th>\n",
       "      <th>Female</th>\n",
       "    </tr>\n",
       "    <tr>\n",
       "      <th>predictor</th>\n",
       "      <th></th>\n",
       "      <th></th>\n",
       "    </tr>\n",
       "  </thead>\n",
       "  <tbody>\n",
       "    <tr>\n",
       "      <th>blind</th>\n",
       "      <td>0.502936</td>\n",
       "      <td>0.502936</td>\n",
       "    </tr>\n",
       "    <tr>\n",
       "      <th>max profit</th>\n",
       "      <td>0.502999</td>\n",
       "      <td>0.517576</td>\n",
       "    </tr>\n",
       "    <tr>\n",
       "      <th>demographic parity</th>\n",
       "      <td>0.668736</td>\n",
       "      <td>0.220349</td>\n",
       "    </tr>\n",
       "    <tr>\n",
       "      <th>equal odds</th>\n",
       "      <td>NaN</td>\n",
       "      <td>NaN</td>\n",
       "    </tr>\n",
       "    <tr>\n",
       "      <th>equal opportunity</th>\n",
       "      <td>0.547977</td>\n",
       "      <td>0.451887</td>\n",
       "    </tr>\n",
       "  </tbody>\n",
       "</table>\n",
       "</div>"
      ],
      "text/plain": [
       "                        Male    Female\n",
       "predictor                             \n",
       "blind               0.502936  0.502936\n",
       "max profit          0.502999  0.517576\n",
       "demographic parity  0.668736  0.220349\n",
       "equal odds               NaN       NaN\n",
       "equal opportunity   0.547977  0.451887"
      ]
     },
     "execution_count": 100,
     "metadata": {},
     "output_type": "execute_result"
    }
   ],
   "source": [
    "t.reindex(['blind', 'max profit', 'demographic parity', 'equal odds', 'equal opportunity'])"
   ]
  },
  {
   "cell_type": "code",
   "execution_count": 109,
   "metadata": {},
   "outputs": [],
   "source": [
    "male_eodd_th = intersection_threshold(curves[0], *eodd)\n",
    "female_eodd_th = intersection_threshold(curves[1], *eodd)"
   ]
  },
  {
   "cell_type": "code",
   "execution_count": 127,
   "metadata": {},
   "outputs": [
    {
     "data": {
      "image/png": "[encoded data removed]",
      "text/plain": [
       "<Figure size 360x360 with 1 Axes>"
      ]
     },
     "metadata": {
      "needs_background": "light"
     },
     "output_type": "display_data"
    }
   ],
   "source": [
    "t = thresholds.copy()\n",
    "# t.loc['equal odds'] = None\n",
    "t = t.reindex(['blind', 'max profit', 'equal opportunity', 'equal odds', 'demographic parity']).iloc[::-1, :]\n",
    "t.loc['equal odds', 'Male'] = male_eodd_th\n",
    "n_rows = t.shape[0]\n",
    "fig, ax = plt.subplots(figsize=(5, 5))\n",
    "ax.scatter(x=t['Male'], y=t.index, label='Male', marker='x')\n",
    "f = ax.scatter(x=t['Female'], y=t.index, label='Female', marker='+')\n",
    "ax.plot([0, female_eodd_th], [t.index.get_loc('equal odds'), t.index.get_loc('equal odds')], color='tab:orange', marker='+', linewidth=1)\n",
    "# f.set_offsets((10, 10))\n",
    "ax.legend()\n",
    "ax.set_xlim(0, 1)\n",
    "for i in range(n_rows - 1):\n",
    "    ax.axhline(y=0.5 + i, linestyle=':', c='#333', linewidth=1)\n",
    "ax.set_ylim(-0.5, 0.5 + n_rows - 1)\n",
    "ax.set_xlabel('$P(\\hat{y}=1)$')\n",
    "ax.set_title('Modified threshold by predictor')\n",
    "fig.tight_layout()\n",
    "fig.savefig('thresholds.png', dpi=300)"
   ]
  },
  {
   "cell_type": "code",
   "execution_count": 134,
   "metadata": {},
   "outputs": [
    {
     "data": {
      "image/png": "[encoded data removed]",
      "text/plain": [
       "<Figure size 360x360 with 1 Axes>"
      ]
     },
     "metadata": {
      "needs_background": "light"
     },
     "output_type": "display_data"
    }
   ],
   "source": [
    "fig, ax = plt.subplots(figsize=(5, 5))\n",
    "for curve in curves:\n",
    "    ax.plot(curve.fps, curve.tps, label=curve.label, zorder=1)\n",
    "for c, curve in enumerate(curves):\n",
    "    ax.scatter(mp[2][c], mp[1][c], color='k', marker='x', label='max profit' if c == 0 else None)\n",
    "    ax.scatter(ed[2][c], ed[1][c], color='k', marker='.', label='demographic parity' if c == 0 else None)\n",
    "    ax.scatter(eopp[2][c], eopp[1][c], color='k', marker='+', label='equal opportunity' if c == 0 else None)\n",
    "    _tp, _fp = lookup_to_tp_fp(bm[2], curve.ths[::-1], curve.tps[::-1], curve.fps[::-1])\n",
    "    m = ax.scatter(_fp, _tp, color='k', marker='o', label='blind' if c == 0 else None)\n",
    "    m.set_facecolor('none')\n",
    "ax.scatter(eodd[1], eodd[0], color='red', marker='x', label='equal odds')\n",
    "ax.legend(loc='lower right')\n",
    "ax.set_ylabel('$P(\\hat{y}=1|y=1)$')\n",
    "ax.set_xlabel('$P(\\hat{y}=1|y=0)$')\n",
    "ax.set_title('Per group ROC-curve\\nconvex hulls')\n",
    "ax.set_xlim(0, 0.3)\n",
    "fig.tight_layout()\n",
    "\n",
    "fig.savefig('curves-zoomed.png', dpi=300)"
   ]
  },
  {
   "cell_type": "code",
   "execution_count": 138,
   "metadata": {},
   "outputs": [
    {
     "data": {
      "image/png": "[encoded data removed]",
      "text/plain": [
       "<Figure size 360x360 with 1 Axes>"
      ]
     },
     "metadata": {
      "needs_background": "light"
     },
     "output_type": "display_data"
    }
   ],
   "source": [
    "fig, ax = plt.subplots(figsize=(5, 5))\n",
    "for curve in curves:\n",
    "    ax.plot(curve.fps, curve.tps, label=curve.label, zorder=1)\n",
    "# for c, curve in enumerate(curves):\n",
    "#     ax.scatter(mp[2][c], mp[1][c], color='k', marker='x', label='max profit' if c == 0 else None)\n",
    "#     ax.scatter(ed[2][c], ed[1][c], color='k', marker='.', label='demographic parity' if c == 0 else None)\n",
    "#     ax.scatter(eopp[2][c], eopp[1][c], color='k', marker='+', label='equal opportunity' if c == 0 else None)\n",
    "#     _tp, _fp = lookup_to_tp_fp(bm[2], curve.ths[::-1], curve.tps[::-1], curve.fps[::-1])\n",
    "#     m = ax.scatter(_fp, _tp, color='k', marker='o', label='blind' if c == 0 else None)\n",
    "#     m.set_facecolor('none')\n",
    "# ax.scatter(eodd[1], eodd[0], color='red', marker='x', label='equal odds')\n",
    "ax.legend(loc='lower right')\n",
    "ax.set_ylabel('$P(\\hat{y}=1|y=1)$')\n",
    "ax.set_xlabel('$P(\\hat{y}=1|y=0)$')\n",
    "ax.set_title('A-conditional ROC-curves')\n",
    "# ax.set_xlim(0, 0.3)\n",
    "fig.tight_layout()\n",
    "\n",
    "fig.savefig('rocs.png', dpi=300)"
   ]
  },
  {
   "cell_type": "code",
   "execution_count": 74,
   "metadata": {},
   "outputs": [
    {
     "data": {
      "text/plain": [
       "(0.5250673141627535, 0.06326010647013411)"
      ]
     },
     "execution_count": 74,
     "metadata": {},
     "output_type": "execute_result"
    }
   ],
   "source": [
    "eodd"
   ]
  },
  {
   "cell_type": "code",
   "execution_count": 92,
   "metadata": {},
   "outputs": [],
   "source": []
  },
  {
   "cell_type": "code",
   "execution_count": 93,
   "metadata": {},
   "outputs": [
    {
     "data": {
      "text/plain": [
       "0.5236138096134295"
      ]
     },
     "execution_count": 93,
     "metadata": {},
     "output_type": "execute_result"
    }
   ],
   "source": []
  },
  {
   "cell_type": "code",
   "execution_count": 94,
   "metadata": {},
   "outputs": [
    {
     "data": {
      "text/plain": [
       "0.5872496052093773"
      ]
     },
     "execution_count": 94,
     "metadata": {},
     "output_type": "execute_result"
    }
   ],
   "source": [
    "intersection_threshold(curves[0], *eodd)"
   ]
  },
  {
   "cell_type": "code",
   "execution_count": 86,
   "metadata": {},
   "outputs": [],
   "source": [
    "curve = curves[0]\n",
    "\n",
    "tp, fp = eodd\n",
    "def line(x: float) -> float:\n",
    "    return (1 - tp) / (1 - fp) * (x - 1) + 1\n",
    "\n",
    "ys = np.array([line(p) for p in curve.fps])\n",
    "i = np.argmax(ys - curve.tps < 0)\n",
    "phi = (1 - tp) / (1 - fp)\n",
    "x1 = curve.fps[i-1]\n",
    "x2 = curve.fps[i]\n",
    "y1 = curve.tps[i-1]\n",
    "y2 = curve.tps[i]\n",
    "\n"
   ]
  },
  {
   "cell_type": "code",
   "execution_count": 87,
   "metadata": {},
   "outputs": [
    {
     "data": {
      "text/plain": [
       "(0.06259915388683236, 0.5229660762533773)"
      ]
     },
     "execution_count": 87,
     "metadata": {},
     "output_type": "execute_result"
    }
   ],
   "source": [
    "x1, y1"
   ]
  },
  {
   "cell_type": "code",
   "execution_count": 88,
   "metadata": {},
   "outputs": [
    {
     "data": {
      "text/plain": [
       "(0.06326017979904812, 0.5250675472830981)"
      ]
     },
     "execution_count": 88,
     "metadata": {},
     "output_type": "execute_result"
    }
   ],
   "source": [
    "x2, y2"
   ]
  },
  {
   "cell_type": "code",
   "execution_count": 95,
   "metadata": {},
   "outputs": [
    {
     "data": {
      "text/plain": [
       "0.5236138096134295"
      ]
     },
     "execution_count": 95,
     "metadata": {},
     "output_type": "execute_result"
    }
   ],
   "source": [
    "intersection_threshold(curves[1], *eodd)"
   ]
  }
 ],
 "metadata": {
  "kernelspec": {
   "display_name": "ml-venv",
   "language": "python",
   "name": "python3"
  },
  "language_info": {
   "codemirror_mode": {
    "name": "ipython",
    "version": 3
   },
   "file_extension": ".py",
   "mimetype": "text/x-python",
   "name": "python",
   "nbconvert_exporter": "python",
   "pygments_lexer": "ipython3",
   "version": "3.10.4"
  },
  "orig_nbformat": 4,
  "vscode": {
   "interpreter": {
    "hash": "165cbcba0d07a02053b0bc92fa7b928310d357c23558db40a80716015a2ca901"
   }
  }
 },
 "nbformat": 4,
 "nbformat_minor": 2
}
