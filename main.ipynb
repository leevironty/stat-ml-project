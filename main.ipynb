{
 "cells": [
  {
   "cell_type": "code",
   "execution_count": 1,
   "metadata": {},
   "outputs": [],
   "source": [
    "%load_ext autoreload\n",
    "%autoreload 2\n",
    "\n",
    "import pandas as pd\n",
    "import numpy as np\n",
    "import sklearn.linear_model as linear\n",
    "import sklearn.preprocessing as pre\n",
    "import sklearn.metrics as metrics\n",
    "import matplotlib.pyplot as plt\n",
    "import time\n",
    "import warnings\n",
    "from typing import overload, Callable\n",
    "from dataclasses import dataclass\n",
    "\n",
    "from main import (\n",
    "    Curve,\n",
    "    get_curves,\n",
    "    loss,\n",
    "    max_profit,\n",
    "    convexify,\n",
    "    lookup_to_tp_fp,\n",
    "    ternary_search,\n",
    "    equal_demographic,\n",
    "    equal_odds,\n",
    "    equal_opportunity,\n",
    "    preprocess,\n",
    "    intersection_threshold\n",
    ")"
   ]
  },
  {
   "cell_type": "code",
   "execution_count": 237,
   "metadata": {},
   "outputs": [],
   "source": [
    "with open('adult.names') as file:\n",
    "    rows = file.read().split('\\n')[-15:]\n",
    "    col_names = [row.split(':')[0] for row in rows][:-1] + ['label']\n",
    "\n",
    "x, y, labels, label_map = preprocess(\n",
    "    fname='adult.data',\n",
    "    col_names=col_names,\n",
    "    protected='sex'\n",
    ")"
   ]
  },
  {
   "cell_type": "code",
   "execution_count": 3,
   "metadata": {},
   "outputs": [
    {
     "name": "stderr",
     "output_type": "stream",
     "text": [
      "[Parallel(n_jobs=1)]: Using backend SequentialBackend with 1 concurrent workers.\n",
      " This problem is unconstrained.\n"
     ]
    },
    {
     "name": "stdout",
     "output_type": "stream",
     "text": [
      "RUNNING THE L-BFGS-B CODE\n",
      "\n",
      "           * * *\n",
      "\n",
      "Machine precision = 2.220D-16\n",
      " N =           57     M =           10\n",
      "\n",
      "At X0         0 variables are exactly at the bounds\n",
      "\n",
      "At iterate    0    f=  2.25696D+04    |proj g|=  1.38675D+07\n",
      "\n",
      "At iterate   50    f=  1.64789D+04    |proj g|=  3.29235D+04\n",
      "\n",
      "At iterate  100    f=  1.22304D+04    |proj g|=  8.14002D+04\n",
      "\n",
      "At iterate  150    f=  1.11946D+04    |proj g|=  4.94400D+03\n",
      "\n",
      "At iterate  200    f=  1.07759D+04    |proj g|=  9.29299D+03\n",
      "\n",
      "At iterate  250    f=  1.07487D+04    |proj g|=  5.94089D+03\n",
      "\n",
      "At iterate  300    f=  1.06717D+04    |proj g|=  8.49872D+03\n",
      "\n",
      "At iterate  350    f=  1.06242D+04    |proj g|=  1.74821D+04\n",
      "\n",
      "At iterate  400    f=  1.06230D+04    |proj g|=  2.84975D+03\n",
      "\n",
      "At iterate  450    f=  1.06204D+04    |proj g|=  1.68495D+03\n",
      "\n",
      "At iterate  500    f=  1.06181D+04    |proj g|=  4.52057D+03\n",
      "\n",
      "At iterate  550    f=  1.06085D+04    |proj g|=  8.27134D+03\n",
      "\n",
      "At iterate  600    f=  1.06022D+04    |proj g|=  2.28090D+04\n",
      "\n",
      "At iterate  650    f=  1.05976D+04    |proj g|=  6.47323D+02\n",
      "\n",
      "At iterate  700    f=  1.05548D+04    |proj g|=  8.95244D+03\n",
      "\n",
      "At iterate  750    f=  1.05401D+04    |proj g|=  1.84353D+04\n",
      "\n",
      "At iterate  800    f=  1.05380D+04    |proj g|=  2.66025D+02\n",
      "\n",
      "At iterate  850    f=  1.05362D+04    |proj g|=  3.55549D+04\n",
      "\n",
      "At iterate  900    f=  1.05335D+04    |proj g|=  9.44865D+03\n",
      "\n",
      "At iterate  950    f=  1.05267D+04    |proj g|=  7.03507D+02\n",
      "\n",
      "At iterate 1000    f=  1.05260D+04    |proj g|=  1.81235D+03\n",
      "\n",
      "At iterate 1050    f=  1.05221D+04    |proj g|=  6.85739D+02\n",
      "\n",
      "At iterate 1100    f=  1.05214D+04    |proj g|=  5.32796D+02\n",
      "\n",
      "At iterate 1150    f=  1.05082D+04    |proj g|=  1.08607D+03\n",
      "\n",
      "At iterate 1200    f=  1.05015D+04    |proj g|=  3.31392D+03\n",
      "\n",
      "           * * *\n",
      "\n",
      "Tit   = total number of iterations\n",
      "Tnf   = total number of function evaluations\n",
      "Tnint = total number of segments explored during Cauchy searches\n",
      "Skip  = number of BFGS updates skipped\n",
      "Nact  = number of active bounds at final generalized Cauchy point\n",
      "Projg = norm of the final projected gradient\n",
      "F     = final function value\n",
      "\n",
      "           * * *\n",
      "\n",
      "   N    Tit     Tnf  Tnint  Skip  Nact     Projg        F\n",
      "   57   1244   1450      1     0     0   2.717D+02   1.050D+04\n",
      "  F =   10501.427172403697     \n",
      "\n",
      "CONVERGENCE: REL_REDUCTION_OF_F_<=_FACTR*EPSMCH             \n",
      "base model score: 0.8515094745247381\n"
     ]
    },
    {
     "name": "stderr",
     "output_type": "stream",
     "text": [
      "[Parallel(n_jobs=1)]: Done   1 out of   1 | elapsed:    6.5s finished\n",
      "/Users/leevi/repos/stat-ml-project/main.py:119: RuntimeWarning: divide by zero encountered in divide\n",
      "  slopes = np.diff(tp) / np.diff(fp)\n",
      "/Users/leevi/repos/stat-ml-project/main.py:119: RuntimeWarning: divide by zero encountered in divide\n",
      "  slopes = np.diff(tp) / np.diff(fp)\n"
     ]
    }
   ],
   "source": [
    "model = linear.LogisticRegression(penalty='none', max_iter=2000, verbose=True)\n",
    "with warnings.catch_warnings():\n",
    "    warnings.filterwarnings('error')\n",
    "    try:\n",
    "        model.fit(x, y)\n",
    "    except Warning as w:\n",
    "        print(w)\n",
    "        exit(1)\n",
    "probs = model.predict_proba(x)[:, 1]  # probability of y = 1\n",
    "print(f'base model score: {model.score(x, y)}')\n",
    "curves = get_curves(probs, labels, label_map, y)"
   ]
  },
  {
   "cell_type": "code",
   "execution_count": 4,
   "metadata": {},
   "outputs": [
    {
     "data": {
      "text/plain": [
       "0.5029358337814798"
      ]
     },
     "execution_count": 4,
     "metadata": {},
     "output_type": "execute_result"
    }
   ],
   "source": [
    "# check blind model max\n",
    "fpr, tpr, th = metrics.roc_curve(y, probs)\n",
    "i = loss(tpr, fpr, y.mean()).argmin()\n",
    "bm = tpr[i], fpr[i], th[i]\n",
    "th[i]"
   ]
  },
  {
   "cell_type": "code",
   "execution_count": 20,
   "metadata": {},
   "outputs": [
    {
     "name": "stdout",
     "output_type": "stream",
     "text": [
      "max profit: (array([0.50299862, 0.51757613]), array([0.60927649, 0.50890585]), array([0.09485722, 0.02126772]))\n",
      "0.15968794499663552\n",
      "equal demographic: (array([[0.67475601, 0.63130422],\n",
      "       [0.2287213 , 0.22034834]]), array([0.43493739, 0.77523303]), array([0.03847484, 0.08402826]), 0.15968794499663552, array([0.66873575, 0.22034861]))\n",
      "0.5633445124641188\n",
      "equal opportunity: (array([[0.54797703, 0.50299862],\n",
      "       [0.45219853, 0.4199356 ]]), array([0.56334451, 0.56334451]), array([0.07608415, 0.02901264]), 0.5633445124641188, array([0.54797687, 0.45188748]))\n",
      "equal odds: (0.5250673141627535, 0.06326010647013411)\n"
     ]
    }
   ],
   "source": [
    "mp = max_profit(curves)\n",
    "print(f'max profit: {mp}')\n",
    "\n",
    "ed = equal_demographic(curves)\n",
    "print(f'equal demographic: {ed}')\n",
    "\n",
    "eopp = equal_opportunity(curves)\n",
    "print(f'equal opportunity: {eopp}')\n",
    "\n",
    "eodd = equal_odds(curves)\n",
    "print(f'equal odds: {eodd}')"
   ]
  },
  {
   "cell_type": "code",
   "execution_count": 6,
   "metadata": {},
   "outputs": [
    {
     "name": "stdout",
     "output_type": "stream",
     "text": [
      "[0.30573658 0.10946059]\n",
      "[0.66920549 0.33079451]\n"
     ]
    }
   ],
   "source": [
    "pis = np.array([curve.pi for curve in curves])\n",
    "shares = np.array([curve.share for curve in curves])\n",
    "print(pis)\n",
    "print(shares)"
   ]
  },
  {
   "cell_type": "code",
   "execution_count": 7,
   "metadata": {},
   "outputs": [
    {
     "data": {
      "text/plain": [
       "0.5029358337814798"
      ]
     },
     "execution_count": 7,
     "metadata": {},
     "output_type": "execute_result"
    }
   ],
   "source": [
    "bm[2]"
   ]
  },
  {
   "cell_type": "code",
   "execution_count": 8,
   "metadata": {},
   "outputs": [
    {
     "data": {
      "text/plain": [
       "predictor\n",
       "blind                 0.148245\n",
       "max profit            0.148061\n",
       "demographic parity    0.166380\n",
       "equal opportunity     0.149047\n",
       "equal odds            0.162395\n",
       "Name: loss, dtype: float64"
      ]
     },
     "execution_count": 8,
     "metadata": {},
     "output_type": "execute_result"
    }
   ],
   "source": [
    "# tabulate losses\n",
    "loss_table = pd.Series(\n",
    "    data={\n",
    "        'blind': 1 - ((probs >= bm[2]) * 1 == y).mean(),\n",
    "        'max profit': loss(mp[1], mp[2], pis).dot(shares),\n",
    "        'demographic parity': loss(ed[1], ed[2], pis).dot(shares),\n",
    "        'equal opportunity': loss(eopp[1], eopp[2], pis).dot(shares),\n",
    "        'equal odds': loss(eodd[0], eodd[1], pis).dot(shares),\n",
    "    }\n",
    ")\n",
    "loss_table.index.name = 'predictor'\n",
    "loss_table.name = 'loss'\n",
    "loss_table"
   ]
  },
  {
   "cell_type": "code",
   "execution_count": 9,
   "metadata": {},
   "outputs": [
    {
     "name": "stderr",
     "output_type": "stream",
     "text": [
      "/var/folders/nc/dhtws2m1317bwzbsxq9n3_gc0000gn/T/ipykernel_1900/494938161.py:1: FutureWarning: In future versions `DataFrame.to_latex` is expected to utilise the base implementation of `Styler.to_latex` for formatting and rendering. The arguments signature may therefore change. It is recommended instead to use `DataFrame.style.to_latex` which also contains additional functionality.\n",
      "  loss_table.to_latex('loss.tex', float_format='%.4f')\n"
     ]
    }
   ],
   "source": [
    "loss_table.to_latex('loss.tex', float_format='%.4f')"
   ]
  },
  {
   "cell_type": "code",
   "execution_count": 72,
   "metadata": {},
   "outputs": [
    {
     "name": "stdout",
     "output_type": "stream",
     "text": [
      "\\begin{tabular}{lr}\n",
      "\\toprule\n",
      "{} &   loss \\\\\n",
      "predictor          &        \\\\\n",
      "\\midrule\n",
      "blind              & 0.1482 \\\\\n",
      "max profit         & 0.1481 \\\\\n",
      "demographic parity & 0.1664 \\\\\n",
      "equal opportunity  & 0.1490 \\\\\n",
      "equal odds         & 0.1624 \\\\\n",
      "\\bottomrule\n",
      "\\end{tabular}\n"
     ]
    }
   ],
   "source": [
    "!cat loss.tex"
   ]
  },
  {
   "cell_type": "code",
   "execution_count": 10,
   "metadata": {},
   "outputs": [
    {
     "data": {
      "text/plain": [
       "array([0.50299862, 0.51757613])"
      ]
     },
     "execution_count": 10,
     "metadata": {},
     "output_type": "execute_result"
    }
   ],
   "source": [
    "# max profit thresholds\n",
    "mp[0]"
   ]
  },
  {
   "cell_type": "code",
   "execution_count": 11,
   "metadata": {},
   "outputs": [
    {
     "data": {
      "text/plain": [
       "array([[0.67475601, 0.63130422],\n",
       "       [0.2287213 , 0.22034834]])"
      ]
     },
     "execution_count": 11,
     "metadata": {},
     "output_type": "execute_result"
    }
   ],
   "source": [
    "# equal demographic thresholds\n",
    "ed[0]"
   ]
  },
  {
   "cell_type": "code",
   "execution_count": 12,
   "metadata": {},
   "outputs": [
    {
     "data": {
      "text/plain": [
       "array([[0.54797703, 0.50299862],\n",
       "       [0.45219853, 0.4199356 ]])"
      ]
     },
     "execution_count": 12,
     "metadata": {},
     "output_type": "execute_result"
    }
   ],
   "source": [
    "# equal opportunity thresholds\n",
    "eopp[0]"
   ]
  },
  {
   "cell_type": "code",
   "execution_count": 19,
   "metadata": {},
   "outputs": [
    {
     "data": {
      "text/plain": [
       "(array([[0.67475601, 0.63130422],\n",
       "        [0.2287213 , 0.22034834]]),\n",
       " array([0.43493739, 0.77523303]),\n",
       " array([0.03847484, 0.08402826]),\n",
       " 0.15968794499663552,\n",
       " 0.22034861065134437)"
      ]
     },
     "execution_count": 19,
     "metadata": {},
     "output_type": "execute_result"
    }
   ],
   "source": [
    "ed"
   ]
  },
  {
   "cell_type": "code",
   "execution_count": 52,
   "metadata": {},
   "outputs": [
    {
     "data": {
      "text/html": [
       "<div>\n",
       "<style scoped>\n",
       "    .dataframe tbody tr th:only-of-type {\n",
       "        vertical-align: middle;\n",
       "    }\n",
       "\n",
       "    .dataframe tbody tr th {\n",
       "        vertical-align: top;\n",
       "    }\n",
       "\n",
       "    .dataframe thead th {\n",
       "        text-align: right;\n",
       "    }\n",
       "</style>\n",
       "<table border=\"1\" class=\"dataframe\">\n",
       "  <thead>\n",
       "    <tr style=\"text-align: right;\">\n",
       "      <th></th>\n",
       "      <th>Male</th>\n",
       "      <th>Female</th>\n",
       "    </tr>\n",
       "    <tr>\n",
       "      <th>predictor</th>\n",
       "      <th></th>\n",
       "      <th></th>\n",
       "    </tr>\n",
       "  </thead>\n",
       "  <tbody>\n",
       "    <tr>\n",
       "      <th>max profit</th>\n",
       "      <td>0.502999</td>\n",
       "      <td>0.517576</td>\n",
       "    </tr>\n",
       "    <tr>\n",
       "      <th>blind</th>\n",
       "      <td>0.502936</td>\n",
       "      <td>0.502936</td>\n",
       "    </tr>\n",
       "    <tr>\n",
       "      <th>equal opportunity</th>\n",
       "      <td>0.547977</td>\n",
       "      <td>0.451887</td>\n",
       "    </tr>\n",
       "    <tr>\n",
       "      <th>demographic parity</th>\n",
       "      <td>0.668736</td>\n",
       "      <td>0.220349</td>\n",
       "    </tr>\n",
       "  </tbody>\n",
       "</table>\n",
       "</div>"
      ],
      "text/plain": [
       "                        Male    Female\n",
       "predictor                             \n",
       "max profit          0.502999  0.517576\n",
       "blind               0.502936  0.502936\n",
       "equal opportunity   0.547977  0.451887\n",
       "demographic parity  0.668736  0.220349"
      ]
     },
     "execution_count": 52,
     "metadata": {},
     "output_type": "execute_result"
    }
   ],
   "source": [
    "thresholds = pd.DataFrame(data={\n",
    "    'max profit': mp[0],\n",
    "    'blind': bm[2],\n",
    "    'equal opportunity': eopp[4],\n",
    "    'demographic parity': ed[-1],\n",
    "}, index=label_map)\n",
    "thresholds = thresholds.transpose()\n",
    "thresholds.index.name = 'predictor'\n",
    "thresholds.name = 'thresholds'\n",
    "thresholds\n"
   ]
  },
  {
   "cell_type": "code",
   "execution_count": 27,
   "metadata": {},
   "outputs": [
    {
     "name": "stdout",
     "output_type": "stream",
     "text": [
      "\\begin{tabular}{lrr}\n",
      "\\toprule\n",
      "{} &   Male &  Female \\\\\n",
      "predictor          &        &         \\\\\n",
      "\\midrule\n",
      "blind              & 0.5029 &  0.5029 \\\\\n",
      "max profit         & 0.5030 &  0.5176 \\\\\n",
      "demographic parity & 0.6687 &  0.2203 \\\\\n",
      "equal opportunity  & 0.5480 &  0.4519 \\\\\n",
      "\\bottomrule\n",
      "\\end{tabular}\n",
      "\n"
     ]
    },
    {
     "name": "stderr",
     "output_type": "stream",
     "text": [
      "/var/folders/nc/dhtws2m1317bwzbsxq9n3_gc0000gn/T/ipykernel_1900/856907552.py:1: FutureWarning: In future versions `DataFrame.to_latex` is expected to utilise the base implementation of `Styler.to_latex` for formatting and rendering. The arguments signature may therefore change. It is recommended instead to use `DataFrame.style.to_latex` which also contains additional functionality.\n",
      "  print(thresholds.to_latex(float_format='%.4f'))\n"
     ]
    }
   ],
   "source": [
    "print(thresholds.to_latex(float_format='%.4f'))"
   ]
  },
  {
   "cell_type": "code",
   "execution_count": 100,
   "metadata": {},
   "outputs": [
    {
     "data": {
      "text/html": [
       "<div>\n",
       "<style scoped>\n",
       "    .dataframe tbody tr th:only-of-type {\n",
       "        vertical-align: middle;\n",
       "    }\n",
       "\n",
       "    .dataframe tbody tr th {\n",
       "        vertical-align: top;\n",
       "    }\n",
       "\n",
       "    .dataframe thead th {\n",
       "        text-align: right;\n",
       "    }\n",
       "</style>\n",
       "<table border=\"1\" class=\"dataframe\">\n",
       "  <thead>\n",
       "    <tr style=\"text-align: right;\">\n",
       "      <th></th>\n",
       "      <th>Male</th>\n",
       "      <th>Female</th>\n",
       "    </tr>\n",
       "    <tr>\n",
       "      <th>predictor</th>\n",
       "      <th></th>\n",
       "      <th></th>\n",
       "    </tr>\n",
       "  </thead>\n",
       "  <tbody>\n",
       "    <tr>\n",
       "      <th>blind</th>\n",
       "      <td>0.502936</td>\n",
       "      <td>0.502936</td>\n",
       "    </tr>\n",
       "    <tr>\n",
       "      <th>max profit</th>\n",
       "      <td>0.502999</td>\n",
       "      <td>0.517576</td>\n",
       "    </tr>\n",
       "    <tr>\n",
       "      <th>demographic parity</th>\n",
       "      <td>0.668736</td>\n",
       "      <td>0.220349</td>\n",
       "    </tr>\n",
       "    <tr>\n",
       "      <th>equal odds</th>\n",
       "      <td>NaN</td>\n",
       "      <td>NaN</td>\n",
       "    </tr>\n",
       "    <tr>\n",
       "      <th>equal opportunity</th>\n",
       "      <td>0.547977</td>\n",
       "      <td>0.451887</td>\n",
       "    </tr>\n",
       "  </tbody>\n",
       "</table>\n",
       "</div>"
      ],
      "text/plain": [
       "                        Male    Female\n",
       "predictor                             \n",
       "blind               0.502936  0.502936\n",
       "max profit          0.502999  0.517576\n",
       "demographic parity  0.668736  0.220349\n",
       "equal odds               NaN       NaN\n",
       "equal opportunity   0.547977  0.451887"
      ]
     },
     "execution_count": 100,
     "metadata": {},
     "output_type": "execute_result"
    }
   ],
   "source": [
    "t.reindex(['blind', 'max profit', 'demographic parity', 'equal odds', 'equal opportunity'])"
   ]
  },
  {
   "cell_type": "code",
   "execution_count": 109,
   "metadata": {},
   "outputs": [],
   "source": [
    "male_eodd_th = intersection_threshold(curves[0], *eodd)\n",
    "female_eodd_th = intersection_threshold(curves[1], *eodd)"
   ]
  },
  {
   "cell_type": "code",
   "execution_count": 272,
   "metadata": {},
   "outputs": [
    {
     "data": {
      "image/png": "[encoded data removed]",
      "text/plain": [
       "<Figure size 360x360 with 1 Axes>"
      ]
     },
     "metadata": {
      "needs_background": "light"
     },
     "output_type": "display_data"
    }
   ],
   "source": [
    "t = thresholds.copy()\n",
    "# t.loc['equal odds'] = None\n",
    "t = t.reindex(['blind', 'max profit', 'equal opportunity', 'equal odds', 'demographic parity']).iloc[::-1, :]\n",
    "t.loc['equal odds', 'Male'] = male_eodd_th\n",
    "n_rows = t.shape[0]\n",
    "fig, ax = plt.subplots(figsize=(5, 5))\n",
    "ax.scatter(x=t['Male'], y=t.index, label='Male', marker='+')\n",
    "f = ax.scatter(x=t['Female'], y=t.index, label='Female', marker='x')\n",
    "ax.plot([0, female_eodd_th], [t.index.get_loc('equal odds'), t.index.get_loc('equal odds')], color='tab:orange', marker='x', linewidth=1)\n",
    "# f.set_offsets((10, 10))\n",
    "ax.legend()\n",
    "ax.set_xlim(0, 1)\n",
    "for i in range(n_rows - 1):\n",
    "    ax.axhline(y=0.5 + i, linestyle=':', c='#333', linewidth=1)\n",
    "ax.set_ylim(-0.5, 0.5 + n_rows - 1)\n",
    "ax.set_xlabel('threshold')\n",
    "ax.set_title('Modified threshold by predictor')\n",
    "fig.tight_layout()\n",
    "fig.savefig('thresholds.png', dpi=300)"
   ]
  },
  {
   "cell_type": "code",
   "execution_count": 134,
   "metadata": {},
   "outputs": [
    {
     "data": {
      "image/png": "[encoded data removed]",
      "text/plain": [
       "<Figure size 360x360 with 1 Axes>"
      ]
     },
     "metadata": {
      "needs_background": "light"
     },
     "output_type": "display_data"
    }
   ],
   "source": [
    "fig, ax = plt.subplots(figsize=(5, 5))\n",
    "for curve in curves:\n",
    "    ax.plot(curve.fps, curve.tps, label=curve.label, zorder=1)\n",
    "for c, curve in enumerate(curves):\n",
    "    ax.scatter(mp[2][c], mp[1][c], color='k', marker='x', label='max profit' if c == 0 else None)\n",
    "    ax.scatter(ed[2][c], ed[1][c], color='k', marker='.', label='demographic parity' if c == 0 else None)\n",
    "    ax.scatter(eopp[2][c], eopp[1][c], color='k', marker='+', label='equal opportunity' if c == 0 else None)\n",
    "    _tp, _fp = lookup_to_tp_fp(bm[2], curve.ths[::-1], curve.tps[::-1], curve.fps[::-1])\n",
    "    m = ax.scatter(_fp, _tp, color='k', marker='o', label='blind' if c == 0 else None)\n",
    "    m.set_facecolor('none')\n",
    "ax.scatter(eodd[1], eodd[0], color='red', marker='x', label='equal odds')\n",
    "ax.legend(loc='lower right')\n",
    "ax.set_ylabel('$P(\\hat{y}=1|y=1)$')\n",
    "ax.set_xlabel('$P(\\hat{y}=1|y=0)$')\n",
    "ax.set_title('Per group ROC-curve\\nconvex hulls')\n",
    "ax.set_xlim(0, 0.3)\n",
    "fig.tight_layout()\n",
    "\n",
    "fig.savefig('curves-zoomed.png', dpi=300)"
   ]
  },
  {
   "cell_type": "code",
   "execution_count": 138,
   "metadata": {},
   "outputs": [
    {
     "data": {
      "image/png": "[encoded data removed]",
      "text/plain": [
       "<Figure size 360x360 with 1 Axes>"
      ]
     },
     "metadata": {
      "needs_background": "light"
     },
     "output_type": "display_data"
    }
   ],
   "source": [
    "fig, ax = plt.subplots(figsize=(5, 5))\n",
    "for curve in curves:\n",
    "    ax.plot(curve.fps, curve.tps, label=curve.label, zorder=1)\n",
    "# for c, curve in enumerate(curves):\n",
    "#     ax.scatter(mp[2][c], mp[1][c], color='k', marker='x', label='max profit' if c == 0 else None)\n",
    "#     ax.scatter(ed[2][c], ed[1][c], color='k', marker='.', label='demographic parity' if c == 0 else None)\n",
    "#     ax.scatter(eopp[2][c], eopp[1][c], color='k', marker='+', label='equal opportunity' if c == 0 else None)\n",
    "#     _tp, _fp = lookup_to_tp_fp(bm[2], curve.ths[::-1], curve.tps[::-1], curve.fps[::-1])\n",
    "#     m = ax.scatter(_fp, _tp, color='k', marker='o', label='blind' if c == 0 else None)\n",
    "#     m.set_facecolor('none')\n",
    "# ax.scatter(eodd[1], eodd[0], color='red', marker='x', label='equal odds')\n",
    "ax.legend(loc='lower right')\n",
    "ax.set_ylabel('$P(\\hat{y}=1|y=1)$')\n",
    "ax.set_xlabel('$P(\\hat{y}=1|y=0)$')\n",
    "ax.set_title('A-conditional ROC-curves')\n",
    "# ax.set_xlim(0, 0.3)\n",
    "fig.tight_layout()\n",
    "\n",
    "fig.savefig('rocs.png', dpi=300)"
   ]
  },
  {
   "cell_type": "code",
   "execution_count": 74,
   "metadata": {},
   "outputs": [
    {
     "data": {
      "text/plain": [
       "(0.5250673141627535, 0.06326010647013411)"
      ]
     },
     "execution_count": 74,
     "metadata": {},
     "output_type": "execute_result"
    }
   ],
   "source": [
    "eodd"
   ]
  },
  {
   "cell_type": "code",
   "execution_count": 92,
   "metadata": {},
   "outputs": [],
   "source": []
  },
  {
   "cell_type": "code",
   "execution_count": 93,
   "metadata": {},
   "outputs": [
    {
     "data": {
      "text/plain": [
       "0.5236138096134295"
      ]
     },
     "execution_count": 93,
     "metadata": {},
     "output_type": "execute_result"
    }
   ],
   "source": []
  },
  {
   "cell_type": "code",
   "execution_count": 94,
   "metadata": {},
   "outputs": [
    {
     "data": {
      "text/plain": [
       "0.5872496052093773"
      ]
     },
     "execution_count": 94,
     "metadata": {},
     "output_type": "execute_result"
    }
   ],
   "source": [
    "intersection_threshold(curves[0], *eodd)"
   ]
  },
  {
   "cell_type": "code",
   "execution_count": 86,
   "metadata": {},
   "outputs": [],
   "source": [
    "curve = curves[0]\n",
    "\n",
    "tp, fp = eodd\n",
    "def line(x: float) -> float:\n",
    "    return (1 - tp) / (1 - fp) * (x - 1) + 1\n",
    "\n",
    "ys = np.array([line(p) for p in curve.fps])\n",
    "i = np.argmax(ys - curve.tps < 0)\n",
    "phi = (1 - tp) / (1 - fp)\n",
    "x1 = curve.fps[i-1]\n",
    "x2 = curve.fps[i]\n",
    "y1 = curve.tps[i-1]\n",
    "y2 = curve.tps[i]\n",
    "\n"
   ]
  },
  {
   "cell_type": "code",
   "execution_count": 87,
   "metadata": {},
   "outputs": [
    {
     "data": {
      "text/plain": [
       "(0.06259915388683236, 0.5229660762533773)"
      ]
     },
     "execution_count": 87,
     "metadata": {},
     "output_type": "execute_result"
    }
   ],
   "source": [
    "x1, y1"
   ]
  },
  {
   "cell_type": "code",
   "execution_count": 88,
   "metadata": {},
   "outputs": [
    {
     "data": {
      "text/plain": [
       "(0.06326017979904812, 0.5250675472830981)"
      ]
     },
     "execution_count": 88,
     "metadata": {},
     "output_type": "execute_result"
    }
   ],
   "source": [
    "x2, y2"
   ]
  },
  {
   "cell_type": "code",
   "execution_count": 198,
   "metadata": {},
   "outputs": [
    {
     "data": {
      "text/plain": [
       "(0.5250673141627535, 0.06326010647013411)"
      ]
     },
     "execution_count": 198,
     "metadata": {},
     "output_type": "execute_result"
    }
   ],
   "source": [
    "eodd"
   ]
  },
  {
   "cell_type": "code",
   "execution_count": 95,
   "metadata": {},
   "outputs": [
    {
     "data": {
      "text/plain": [
       "0.5236138096134295"
      ]
     },
     "execution_count": 95,
     "metadata": {},
     "output_type": "execute_result"
    }
   ],
   "source": [
    "intersection_threshold(curves[1], *eodd)"
   ]
  },
  {
   "cell_type": "code",
   "execution_count": 139,
   "metadata": {},
   "outputs": [],
   "source": []
  },
  {
   "cell_type": "code",
   "execution_count": 156,
   "metadata": {},
   "outputs": [
    {
     "data": {
      "image/png": "[encoded data removed]",
      "text/plain": [
       "<Figure size 432x288 with 1 Axes>"
      ]
     },
     "metadata": {
      "needs_background": "light"
     },
     "output_type": "display_data"
    }
   ],
   "source": [
    "def neg_loss_ac_parity(v: float) -> float:\n",
    "    l = 0\n",
    "    for curve in curves:\n",
    "        v_tp, v_fp = lookup_to_tp_fp(v, curve.acs, curve.tps, curve.fps)\n",
    "        l += loss(v_tp, v_fp, curve.pi) * curve.share\n",
    "    return -l\n",
    "\n",
    "x = np.linspace(0, 1, num=1000)\n",
    "y = np.array([-neg_loss_ac_parity(v) for v in x])\n",
    "\n",
    "i = y.argmin()\n",
    "\n",
    "\n",
    "fig, ax = plt.subplots()\n",
    "\n",
    "ax.plot(x, y, label='loss', zorder=1)\n",
    "ax.set_xlabel('$P(\\hat{y}=1|A)$')\n",
    "ax.set_ylabel('$R(\\hat{y}, y)$')\n",
    "ax.scatter(x[i], y[i], label='global minimum', c='#f33')\n",
    "ax.set_title('Expected loss as a function\\nof demographic parity')\n",
    "ax.legend()\n",
    "ax.set_xlim(0, 1)\n",
    "\n",
    "fig.savefig('loss-vs-demographic.png', dpi=300)\n"
   ]
  },
  {
   "attachments": {},
   "cell_type": "markdown",
   "metadata": {},
   "source": [
    "# test data metrics"
   ]
  },
  {
   "cell_type": "code",
   "execution_count": 256,
   "metadata": {},
   "outputs": [],
   "source": [
    "x_test, y_test, labels_test, label_map_test = preprocess(\n",
    "    fname='adult.test',\n",
    "    col_names=col_names,\n",
    "    protected='sex'\n",
    ")"
   ]
  },
  {
   "cell_type": "code",
   "execution_count": 257,
   "metadata": {},
   "outputs": [
    {
     "data": {
      "text/plain": [
       "0.2408095574460244"
      ]
     },
     "execution_count": 257,
     "metadata": {},
     "output_type": "execute_result"
    }
   ],
   "source": [
    "y.mean()"
   ]
  },
  {
   "cell_type": "code",
   "execution_count": 162,
   "metadata": {},
   "outputs": [],
   "source": [
    "probs_test = model.predict_proba(x_test)[:, 1]"
   ]
  },
  {
   "cell_type": "code",
   "execution_count": 259,
   "metadata": {},
   "outputs": [
    {
     "data": {
      "text/plain": [
       "0.14882378232295312"
      ]
     },
     "execution_count": 259,
     "metadata": {},
     "output_type": "execute_result"
    }
   ],
   "source": [
    "# max profit\n",
    "out = []\n",
    "for c, th in enumerate(mp[0]):\n",
    "    mask = labels_test == c\n",
    "    probs_test_c = probs_test[mask]\n",
    "    y_test_c = y_test[mask]\n",
    "    preds = probs_test_c >= th\n",
    "    correct = preds == y_test_c\n",
    "    out.append(correct)\n",
    "    # corrects = np.concatenate([corrects, correct])\n",
    "corrects = np.concatenate(out)\n",
    "mp_test_accuracy = corrects.mean()\n",
    "1 - mp_test_accuracy\n"
   ]
  },
  {
   "cell_type": "code",
   "execution_count": 260,
   "metadata": {},
   "outputs": [
    {
     "data": {
      "text/plain": [
       "0.14870093974571585"
      ]
     },
     "execution_count": 260,
     "metadata": {},
     "output_type": "execute_result"
    }
   ],
   "source": [
    "# blind\n",
    "preds = probs_test >= bm[-1]\n",
    "bm_test_accuracy = (preds == y_test).mean()\n",
    "1 - bm_test_accuracy"
   ]
  },
  {
   "cell_type": "code",
   "execution_count": 261,
   "metadata": {},
   "outputs": [
    {
     "data": {
      "text/plain": [
       "0.1695227565874332"
      ]
     },
     "execution_count": 261,
     "metadata": {},
     "output_type": "execute_result"
    }
   ],
   "source": [
    "# demographic parity\n",
    "out = []\n",
    "for c, th in enumerate(ed[-1]):\n",
    "    mask = labels_test == c\n",
    "    probs_test_c = probs_test[mask]\n",
    "    y_test_c = y_test[mask]\n",
    "    preds = probs_test_c >= th\n",
    "    correct = preds == y_test_c\n",
    "    out.append(correct)\n",
    "    # corrects = np.concatenate([corrects, correct])\n",
    "corrects = np.concatenate(out)\n",
    "ed_test_accuracy = corrects.mean()\n",
    "1 - ed_test_accuracy"
   ]
  },
  {
   "cell_type": "code",
   "execution_count": 262,
   "metadata": {},
   "outputs": [
    {
     "data": {
      "text/plain": [
       "0.14906946747742766"
      ]
     },
     "execution_count": 262,
     "metadata": {},
     "output_type": "execute_result"
    }
   ],
   "source": [
    "# equal opportunity\n",
    "out = []\n",
    "for c, th in enumerate(eopp[-1]):\n",
    "    mask = labels_test == c\n",
    "    probs_test_c = probs_test[mask]\n",
    "    y_test_c = y_test[mask]\n",
    "    preds = probs_test_c >= th\n",
    "    correct = preds == y_test_c\n",
    "    out.append(correct)\n",
    "    # corrects = np.concatenate([corrects, correct])\n",
    "corrects = np.concatenate(out)\n",
    "eopp_test_accuracy = corrects.mean()\n",
    "1 - eopp_test_accuracy"
   ]
  },
  {
   "cell_type": "code",
   "execution_count": 263,
   "metadata": {},
   "outputs": [],
   "source": [
    "# equal odds"
   ]
  },
  {
   "cell_type": "code",
   "execution_count": 264,
   "metadata": {},
   "outputs": [
    {
     "name": "stdout",
     "output_type": "stream",
     "text": [
      "0.5250673141627535 0.06326010647013411\n",
      "0.0\n",
      "0.7169145572695573 0.06326010647013411\n",
      "0.0\n"
     ]
    }
   ],
   "source": [
    "l = 0\n",
    "f = eodd[-1]\n",
    "for c, curve in enumerate(curves):\n",
    "\n",
    "    tp, fp = lookup_to_tp_fp(f, curve.fps, curve.tps, curve.fps)\n",
    "    print(tp, fp)\n",
    "    sr = (f - fp) / (1 - fp)\n",
    "    print(sr)"
   ]
  },
  {
   "cell_type": "code",
   "execution_count": null,
   "metadata": {},
   "outputs": [],
   "source": []
  },
  {
   "cell_type": "code",
   "execution_count": 265,
   "metadata": {},
   "outputs": [
    {
     "data": {
      "text/plain": [
       "'Female'"
      ]
     },
     "execution_count": 265,
     "metadata": {},
     "output_type": "execute_result"
    }
   ],
   "source": [
    "curve.label"
   ]
  },
  {
   "cell_type": "code",
   "execution_count": 266,
   "metadata": {},
   "outputs": [
    {
     "data": {
      "text/plain": [
       "(0.5037769265586717, 0.020703661708306578)"
      ]
     },
     "execution_count": 266,
     "metadata": {},
     "output_type": "execute_result"
    }
   ],
   "source": [
    "lookup_to_tp_fp(female_eodd_th, curve.ths[::-1], curve.tps[::-1], curve.fps[::-1])"
   ]
  },
  {
   "cell_type": "code",
   "execution_count": 267,
   "metadata": {},
   "outputs": [
    {
     "name": "stdout",
     "output_type": "stream",
     "text": [
      "Male: 0.15146489773355443\n",
      "Female: 0.20515822352522733\n"
     ]
    },
    {
     "data": {
      "text/plain": [
       "0.16922635506293957"
      ]
     },
     "execution_count": 267,
     "metadata": {},
     "output_type": "execute_result"
    }
   ],
   "source": [
    "# eodd test loss\n",
    "l = 0\n",
    "for th, curve in zip([male_eodd_th, female_eodd_th], curves):\n",
    "    tp, fp = lookup_to_tp_fp(th, curve.ths[::-1], curve.tps[::-1], curve.fps[::-1])\n",
    "    sr = (eodd[-1] - fp ) / (1 - fp)\n",
    "    if abs(sr) < 1e-6:\n",
    "        pred = probs_test >= th\n",
    "        correct = (pred == y_test) * 1\n",
    "        print(f'{curve.label}: {1 - correct.mean()}')\n",
    "        l += (1 - correct.mean()) * curve.share\n",
    "    else:\n",
    "        mask = probs_test >= th\n",
    "        a = mask.mean()\n",
    "        b = y_test[mask].mean()\n",
    "        c = 1 - b\n",
    "        d = 1 - y_test[~mask].mean()\n",
    "        change = sr * d * (1 - a) + c * a + (1 - sr) * b * a\n",
    "        print(f'{curve.label}: {change}')\n",
    "        l += change * curve.share\n",
    "eodd_test_loss = l\n",
    "l"
   ]
  },
  {
   "cell_type": "code",
   "execution_count": 268,
   "metadata": {},
   "outputs": [
    {
     "data": {
      "text/html": [
       "<div>\n",
       "<style scoped>\n",
       "    .dataframe tbody tr th:only-of-type {\n",
       "        vertical-align: middle;\n",
       "    }\n",
       "\n",
       "    .dataframe tbody tr th {\n",
       "        vertical-align: top;\n",
       "    }\n",
       "\n",
       "    .dataframe thead th {\n",
       "        text-align: right;\n",
       "    }\n",
       "</style>\n",
       "<table border=\"1\" class=\"dataframe\">\n",
       "  <thead>\n",
       "    <tr style=\"text-align: right;\">\n",
       "      <th></th>\n",
       "      <th>train loss</th>\n",
       "      <th>test loss</th>\n",
       "    </tr>\n",
       "    <tr>\n",
       "      <th>predictor</th>\n",
       "      <th></th>\n",
       "      <th></th>\n",
       "    </tr>\n",
       "  </thead>\n",
       "  <tbody>\n",
       "    <tr>\n",
       "      <th>blind</th>\n",
       "      <td>0.148245</td>\n",
       "      <td>0.148701</td>\n",
       "    </tr>\n",
       "    <tr>\n",
       "      <th>max profit</th>\n",
       "      <td>0.148061</td>\n",
       "      <td>0.148824</td>\n",
       "    </tr>\n",
       "    <tr>\n",
       "      <th>demographic parity</th>\n",
       "      <td>0.166380</td>\n",
       "      <td>0.169523</td>\n",
       "    </tr>\n",
       "    <tr>\n",
       "      <th>equal opportunity</th>\n",
       "      <td>0.149047</td>\n",
       "      <td>0.149069</td>\n",
       "    </tr>\n",
       "    <tr>\n",
       "      <th>equal odds</th>\n",
       "      <td>0.162395</td>\n",
       "      <td>0.169226</td>\n",
       "    </tr>\n",
       "  </tbody>\n",
       "</table>\n",
       "</div>"
      ],
      "text/plain": [
       "                    train loss  test loss\n",
       "predictor                                \n",
       "blind                 0.148245   0.148701\n",
       "max profit            0.148061   0.148824\n",
       "demographic parity    0.166380   0.169523\n",
       "equal opportunity     0.149047   0.149069\n",
       "equal odds            0.162395   0.169226"
      ]
     },
     "execution_count": 268,
     "metadata": {},
     "output_type": "execute_result"
    }
   ],
   "source": [
    "train_loss = loss_table.copy()\n",
    "train_loss.name = 'train loss'\n",
    "losses = pd.DataFrame(train_loss)\n",
    "losses.loc['max profit', 'test loss'] = 1 - mp_test_accuracy\n",
    "losses.loc['blind', 'test loss'] = 1 - bm_test_accuracy\n",
    "losses.loc['demographic parity', 'test loss'] = 1 - ed_test_accuracy\n",
    "losses.loc['equal opportunity', 'test loss'] = 1 - eopp_test_accuracy\n",
    "losses.loc['equal odds', 'test loss'] = eodd_test_loss\n",
    "losses"
   ]
  },
  {
   "cell_type": "code",
   "execution_count": 269,
   "metadata": {},
   "outputs": [
    {
     "name": "stdout",
     "output_type": "stream",
     "text": [
      "\\begin{tabular}{lrr}\n",
      "\\toprule\n",
      "{} &  train loss &  test loss \\\\\n",
      "predictor          &             &            \\\\\n",
      "\\midrule\n",
      "blind              &      0.1482 &     0.1487 \\\\\n",
      "max profit         &      0.1481 &     0.1488 \\\\\n",
      "demographic parity &      0.1664 &     0.1695 \\\\\n",
      "equal opportunity  &      0.1490 &     0.1491 \\\\\n",
      "equal odds         &      0.1624 &     0.1692 \\\\\n",
      "\\bottomrule\n",
      "\\end{tabular}\n",
      "\n"
     ]
    },
    {
     "name": "stderr",
     "output_type": "stream",
     "text": [
      "/var/folders/nc/dhtws2m1317bwzbsxq9n3_gc0000gn/T/ipykernel_1900/3063318810.py:1: FutureWarning: In future versions `DataFrame.to_latex` is expected to utilise the base implementation of `Styler.to_latex` for formatting and rendering. The arguments signature may therefore change. It is recommended instead to use `DataFrame.style.to_latex` which also contains additional functionality.\n",
      "  print(losses.to_latex(float_format='%.4f'))\n"
     ]
    }
   ],
   "source": [
    "print(losses.to_latex(float_format='%.4f'))"
   ]
  },
  {
   "cell_type": "code",
   "execution_count": 220,
   "metadata": {},
   "outputs": [
    {
     "data": {
      "text/plain": [
       "0.33079450876815825"
      ]
     },
     "execution_count": 220,
     "metadata": {},
     "output_type": "execute_result"
    }
   ],
   "source": [
    "curve.share"
   ]
  },
  {
   "cell_type": "code",
   "execution_count": 217,
   "metadata": {},
   "outputs": [
    {
     "data": {
      "text/plain": [
       "array([False, False, False, ...,  True, False,  True])"
      ]
     },
     "execution_count": 217,
     "metadata": {},
     "output_type": "execute_result"
    }
   ],
   "source": [
    "y"
   ]
  },
  {
   "cell_type": "code",
   "execution_count": 202,
   "metadata": {},
   "outputs": [
    {
     "data": {
      "text/plain": [
       "array([0.00000000e+00, 0.00000000e+00, 0.00000000e+00, 1.04253545e-04,\n",
       "       7.29774812e-04, 1.45954962e-03, 2.50208507e-03, 8.23603003e-03,\n",
       "       8.54879066e-03, 1.11551293e-02, 1.30316931e-02, 1.59507923e-02,\n",
       "       2.12677231e-02, 2.86697248e-02, 2.89824854e-02, 3.21100917e-02,\n",
       "       4.07631359e-02, 6.38031693e-02, 7.39157631e-02, 8.12135113e-02,\n",
       "       8.40283570e-02, 1.14157631e-01, 1.16346956e-01, 1.20829858e-01,\n",
       "       1.58361134e-01, 1.62322769e-01, 1.87239366e-01, 1.88803169e-01,\n",
       "       2.61363636e-01, 3.23915763e-01, 3.44974979e-01, 3.53628023e-01,\n",
       "       4.21809842e-01, 4.39845705e-01, 5.27418682e-01, 6.95996664e-01,\n",
       "       7.55838198e-01, 8.67806505e-01, 8.67910759e-01, 8.68119266e-01,\n",
       "       8.68744787e-01, 8.68953294e-01, 8.69683069e-01, 8.70725605e-01,\n",
       "       8.71038365e-01, 8.71351126e-01, 8.72706422e-01, 8.72914929e-01,\n",
       "       8.73123436e-01, 8.74687239e-01, 8.76146789e-01, 8.76355296e-01,\n",
       "       8.77502085e-01, 8.78336113e-01, 8.78440367e-01, 8.78648874e-01,\n",
       "       8.79691410e-01, 8.80108424e-01, 8.80733945e-01, 8.80942452e-01,\n",
       "       8.81567973e-01, 8.82089241e-01, 8.82193495e-01, 8.82506255e-01,\n",
       "       8.82819016e-01, 8.83340284e-01, 8.85633862e-01, 8.85842369e-01,\n",
       "       8.89595496e-01, 8.90012510e-01, 8.90846539e-01, 8.91055046e-01,\n",
       "       8.92097581e-01, 8.92514595e-01, 8.93140117e-01, 8.93348624e-01,\n",
       "       8.93661384e-01, 8.95120934e-01, 8.95537948e-01, 8.95746455e-01,\n",
       "       8.95954962e-01, 8.96163470e-01, 8.96684737e-01, 8.96997498e-01,\n",
       "       8.97206005e-01, 8.99186822e-01, 8.99499583e-01, 8.99603837e-01,\n",
       "       8.99916597e-01, 9.00020851e-01, 9.00646372e-01, 9.01688907e-01,\n",
       "       9.01897415e-01, 9.03044204e-01, 9.03252711e-01, 9.03461218e-01,\n",
       "       9.03878232e-01, 9.04608007e-01, 9.04816514e-01, 9.05546289e-01,\n",
       "       9.05754796e-01, 9.06484570e-01, 9.06693078e-01, 9.07527106e-01,\n",
       "       9.07735613e-01, 9.08778148e-01, 9.09195163e-01, 9.10341952e-01,\n",
       "       9.10758966e-01, 9.11592994e-01, 9.12010008e-01, 9.12427023e-01,\n",
       "       9.12635530e-01, 9.12739783e-01, 9.12948290e-01, 9.13156797e-01,\n",
       "       9.13365304e-01, 9.14303586e-01, 9.14512093e-01, 9.14616347e-01,\n",
       "       9.14824854e-01, 9.15137615e-01, 9.15867389e-01, 9.16180150e-01,\n",
       "       9.18473728e-01, 9.18786489e-01, 9.19099249e-01, 9.19307756e-01,\n",
       "       9.19933278e-01, 9.20350292e-01, 9.21392827e-01, 9.21601334e-01,\n",
       "       9.21914095e-01, 9.22226856e-01, 9.22539616e-01, 9.22748123e-01,\n",
       "       9.25875730e-01, 9.26188490e-01, 9.26501251e-01, 9.26709758e-01,\n",
       "       9.27856547e-01, 9.28065054e-01, 9.28169308e-01, 9.28377815e-01,\n",
       "       9.29420350e-01, 9.29837364e-01, 9.30462886e-01, 9.30775646e-01,\n",
       "       9.31296914e-01, 9.31505421e-01, 9.33486239e-01, 9.33903253e-01,\n",
       "       9.34007506e-01, 9.34216013e-01, 9.34320267e-01, 9.34528774e-01,\n",
       "       9.35050042e-01, 9.35467056e-01, 9.36196831e-01, 9.36405338e-01,\n",
       "       9.37447873e-01, 9.37656380e-01, 9.37864887e-01, 9.38281902e-01,\n",
       "       9.38490409e-01, 9.38594662e-01, 9.38907423e-01, 9.39741451e-01,\n",
       "       9.40158465e-01, 9.40783987e-01, 9.41096747e-01, 9.42139283e-01,\n",
       "       9.42452043e-01, 9.42869058e-01, 9.43181818e-01, 9.44328607e-01,\n",
       "       9.44641368e-01, 9.44745621e-01, 9.45058382e-01, 9.45371143e-01,\n",
       "       9.45579650e-01, 9.46413678e-01, 9.46622185e-01, 9.47039199e-01,\n",
       "       9.47247706e-01, 9.48394495e-01, 9.48707256e-01, 9.49020017e-01,\n",
       "       9.49228524e-01, 9.49749791e-01, 9.49958299e-01, 9.50166806e-01,\n",
       "       9.50375313e-01, 9.50688073e-01, 9.50896580e-01, 9.51417848e-01,\n",
       "       9.52043369e-01, 9.52877398e-01, 9.53085905e-01, 9.54024187e-01,\n",
       "       9.54336947e-01, 9.54441201e-01, 9.54753962e-01, 9.55066722e-01,\n",
       "       9.55275229e-01, 9.55379483e-01, 9.55587990e-01, 9.56734779e-01,\n",
       "       9.57256047e-01, 9.58507089e-01, 9.59236864e-01, 9.59549625e-01,\n",
       "       9.59758132e-01, 9.60175146e-01, 9.60487907e-01, 9.61217681e-01,\n",
       "       9.61738949e-01, 9.62468724e-01, 9.63302752e-01, 9.63407006e-01,\n",
       "       9.63615513e-01, 9.64449541e-01, 9.64866555e-01, 9.64970809e-01,\n",
       "       9.65179316e-01, 9.66117598e-01, 9.66638866e-01, 9.67160133e-01,\n",
       "       9.67577148e-01, 9.67889908e-01, 9.68306922e-01, 9.68619683e-01,\n",
       "       9.68828190e-01, 9.68932444e-01, 9.69453711e-01, 9.69662219e-01,\n",
       "       9.70079233e-01, 9.70287740e-01, 9.70496247e-01, 9.71226022e-01,\n",
       "       9.72268557e-01, 9.72477064e-01, 9.72581318e-01, 9.72789825e-01,\n",
       "       9.73936614e-01, 9.74353628e-01, 9.74770642e-01, 9.74979149e-01,\n",
       "       9.75500417e-01, 9.75708924e-01, 9.76230192e-01, 9.76438699e-01,\n",
       "       9.78002502e-01, 9.78419516e-01, 9.78523770e-01, 9.78836530e-01,\n",
       "       9.79045038e-01, 9.79357798e-01, 9.79983319e-01, 9.80400334e-01,\n",
       "       9.82172644e-01, 9.82381151e-01, 9.82485405e-01, 9.82693912e-01,\n",
       "       9.83632193e-01, 9.83944954e-01, 9.84153461e-01, 9.84361968e-01,\n",
       "       9.84570475e-01, 9.84883236e-01, 9.85195997e-01, 9.86342786e-01,\n",
       "       9.86759800e-01, 9.87072560e-01, 9.87281068e-01, 9.87593828e-01,\n",
       "       9.87802335e-01, 9.88323603e-01, 9.88532110e-01, 9.90304420e-01,\n",
       "       9.90929942e-01, 9.92702252e-01, 9.92910759e-01, 9.93536280e-01,\n",
       "       9.93744787e-01, 9.94161802e-01, 9.94891576e-01, 9.95308590e-01,\n",
       "       9.95517098e-01, 9.95934112e-01, 9.96351126e-01, 9.96768140e-01,\n",
       "       9.96976647e-01, 9.97289408e-01, 9.97393661e-01, 9.97602168e-01,\n",
       "       9.97914929e-01, 9.98123436e-01, 9.98331943e-01, 9.98540450e-01,\n",
       "       9.98853211e-01, 1.00000000e+00])"
      ]
     },
     "execution_count": 202,
     "metadata": {},
     "output_type": "execute_result"
    }
   ],
   "source": [
    "curve.fps"
   ]
  },
  {
   "cell_type": "code",
   "execution_count": 229,
   "metadata": {},
   "outputs": [
    {
     "name": "stderr",
     "output_type": "stream",
     "text": [
      "/Users/leevi/.pyenv/versions/3.10.4/envs/ml-venv/lib/python3.10/site-packages/sklearn/metrics/_ranking.py:1018: UndefinedMetricWarning: No positive samples in y_true, true positive value should be meaningless\n",
      "  warnings.warn(\n",
      "/Users/leevi/.pyenv/versions/3.10.4/envs/ml-venv/lib/python3.10/site-packages/sklearn/metrics/_ranking.py:1018: UndefinedMetricWarning: No positive samples in y_true, true positive value should be meaningless\n",
      "  warnings.warn(\n"
     ]
    },
    {
     "data": {
      "text/plain": [
       "<matplotlib.legend.Legend at 0x29928aad0>"
      ]
     },
     "execution_count": 229,
     "metadata": {},
     "output_type": "execute_result"
    },
    {
     "data": {
      "image/png": "[encoded data removed]",
      "text/plain": [
       "<Figure size 432x288 with 1 Axes>"
      ]
     },
     "metadata": {
      "needs_background": "light"
     },
     "output_type": "display_data"
    }
   ],
   "source": [
    "fig, ax = plt.subplots()\n",
    "\n",
    "for c, curve in enumerate(curves):\n",
    "    mask = labels_test == c\n",
    "    ps = probs_test[mask]\n",
    "    ys = y_test[mask]\n",
    "    fp, tp, th = metrics.roc_curve(ys, ps)\n",
    "    ax.plot(fp, tp, label=curve.label)\n",
    "\n",
    "ax.legend()"
   ]
  },
  {
   "cell_type": "code",
   "execution_count": 239,
   "metadata": {},
   "outputs": [
    {
     "data": {
      "text/html": [
       "<div>\n",
       "<style scoped>\n",
       "    .dataframe tbody tr th:only-of-type {\n",
       "        vertical-align: middle;\n",
       "    }\n",
       "\n",
       "    .dataframe tbody tr th {\n",
       "        vertical-align: top;\n",
       "    }\n",
       "\n",
       "    .dataframe thead th {\n",
       "        text-align: right;\n",
       "    }\n",
       "</style>\n",
       "<table border=\"1\" class=\"dataframe\">\n",
       "  <thead>\n",
       "    <tr style=\"text-align: right;\">\n",
       "      <th></th>\n",
       "      <th>age</th>\n",
       "      <th>education-num</th>\n",
       "      <th>capital-gain</th>\n",
       "      <th>capital-loss</th>\n",
       "      <th>hours-per-week</th>\n",
       "      <th>workclass_?</th>\n",
       "      <th>workclass_Federal-gov</th>\n",
       "      <th>workclass_Local-gov</th>\n",
       "      <th>workclass_Never-worked</th>\n",
       "      <th>workclass_Private</th>\n",
       "      <th>...</th>\n",
       "      <th>relationship_Not-in-family</th>\n",
       "      <th>relationship_Other-relative</th>\n",
       "      <th>relationship_Own-child</th>\n",
       "      <th>relationship_Unmarried</th>\n",
       "      <th>relationship_Wife</th>\n",
       "      <th>race_Amer-Indian-Eskimo</th>\n",
       "      <th>race_Asian-Pac-Islander</th>\n",
       "      <th>race_Black</th>\n",
       "      <th>race_Other</th>\n",
       "      <th>race_White</th>\n",
       "    </tr>\n",
       "  </thead>\n",
       "  <tbody>\n",
       "    <tr>\n",
       "      <th>count</th>\n",
       "      <td>32561.000000</td>\n",
       "      <td>32561.000000</td>\n",
       "      <td>32561.000000</td>\n",
       "      <td>32561.000000</td>\n",
       "      <td>32561.000000</td>\n",
       "      <td>32561.000000</td>\n",
       "      <td>32561.000000</td>\n",
       "      <td>32561.000000</td>\n",
       "      <td>32561.000000</td>\n",
       "      <td>32561.000000</td>\n",
       "      <td>...</td>\n",
       "      <td>32561.000000</td>\n",
       "      <td>32561.000000</td>\n",
       "      <td>32561.000000</td>\n",
       "      <td>32561.000000</td>\n",
       "      <td>32561.000000</td>\n",
       "      <td>32561.000000</td>\n",
       "      <td>32561.000000</td>\n",
       "      <td>32561.000000</td>\n",
       "      <td>32561.000000</td>\n",
       "      <td>32561.000000</td>\n",
       "    </tr>\n",
       "    <tr>\n",
       "      <th>mean</th>\n",
       "      <td>38.581647</td>\n",
       "      <td>10.080679</td>\n",
       "      <td>1077.648844</td>\n",
       "      <td>87.303830</td>\n",
       "      <td>40.437456</td>\n",
       "      <td>0.056386</td>\n",
       "      <td>0.029483</td>\n",
       "      <td>0.064279</td>\n",
       "      <td>0.000215</td>\n",
       "      <td>0.697030</td>\n",
       "      <td>...</td>\n",
       "      <td>0.255060</td>\n",
       "      <td>0.030128</td>\n",
       "      <td>0.155646</td>\n",
       "      <td>0.105832</td>\n",
       "      <td>0.048156</td>\n",
       "      <td>0.009551</td>\n",
       "      <td>0.031909</td>\n",
       "      <td>0.095943</td>\n",
       "      <td>0.008323</td>\n",
       "      <td>0.854274</td>\n",
       "    </tr>\n",
       "    <tr>\n",
       "      <th>std</th>\n",
       "      <td>13.640433</td>\n",
       "      <td>2.572720</td>\n",
       "      <td>7385.292085</td>\n",
       "      <td>402.960219</td>\n",
       "      <td>12.347429</td>\n",
       "      <td>0.230670</td>\n",
       "      <td>0.169159</td>\n",
       "      <td>0.245254</td>\n",
       "      <td>0.014661</td>\n",
       "      <td>0.459549</td>\n",
       "      <td>...</td>\n",
       "      <td>0.435901</td>\n",
       "      <td>0.170942</td>\n",
       "      <td>0.362525</td>\n",
       "      <td>0.307627</td>\n",
       "      <td>0.214099</td>\n",
       "      <td>0.097264</td>\n",
       "      <td>0.175761</td>\n",
       "      <td>0.294518</td>\n",
       "      <td>0.090851</td>\n",
       "      <td>0.352837</td>\n",
       "    </tr>\n",
       "    <tr>\n",
       "      <th>min</th>\n",
       "      <td>17.000000</td>\n",
       "      <td>1.000000</td>\n",
       "      <td>0.000000</td>\n",
       "      <td>0.000000</td>\n",
       "      <td>1.000000</td>\n",
       "      <td>0.000000</td>\n",
       "      <td>0.000000</td>\n",
       "      <td>0.000000</td>\n",
       "      <td>0.000000</td>\n",
       "      <td>0.000000</td>\n",
       "      <td>...</td>\n",
       "      <td>0.000000</td>\n",
       "      <td>0.000000</td>\n",
       "      <td>0.000000</td>\n",
       "      <td>0.000000</td>\n",
       "      <td>0.000000</td>\n",
       "      <td>0.000000</td>\n",
       "      <td>0.000000</td>\n",
       "      <td>0.000000</td>\n",
       "      <td>0.000000</td>\n",
       "      <td>0.000000</td>\n",
       "    </tr>\n",
       "    <tr>\n",
       "      <th>25%</th>\n",
       "      <td>28.000000</td>\n",
       "      <td>9.000000</td>\n",
       "      <td>0.000000</td>\n",
       "      <td>0.000000</td>\n",
       "      <td>40.000000</td>\n",
       "      <td>0.000000</td>\n",
       "      <td>0.000000</td>\n",
       "      <td>0.000000</td>\n",
       "      <td>0.000000</td>\n",
       "      <td>0.000000</td>\n",
       "      <td>...</td>\n",
       "      <td>0.000000</td>\n",
       "      <td>0.000000</td>\n",
       "      <td>0.000000</td>\n",
       "      <td>0.000000</td>\n",
       "      <td>0.000000</td>\n",
       "      <td>0.000000</td>\n",
       "      <td>0.000000</td>\n",
       "      <td>0.000000</td>\n",
       "      <td>0.000000</td>\n",
       "      <td>1.000000</td>\n",
       "    </tr>\n",
       "    <tr>\n",
       "      <th>50%</th>\n",
       "      <td>37.000000</td>\n",
       "      <td>10.000000</td>\n",
       "      <td>0.000000</td>\n",
       "      <td>0.000000</td>\n",
       "      <td>40.000000</td>\n",
       "      <td>0.000000</td>\n",
       "      <td>0.000000</td>\n",
       "      <td>0.000000</td>\n",
       "      <td>0.000000</td>\n",
       "      <td>1.000000</td>\n",
       "      <td>...</td>\n",
       "      <td>0.000000</td>\n",
       "      <td>0.000000</td>\n",
       "      <td>0.000000</td>\n",
       "      <td>0.000000</td>\n",
       "      <td>0.000000</td>\n",
       "      <td>0.000000</td>\n",
       "      <td>0.000000</td>\n",
       "      <td>0.000000</td>\n",
       "      <td>0.000000</td>\n",
       "      <td>1.000000</td>\n",
       "    </tr>\n",
       "    <tr>\n",
       "      <th>75%</th>\n",
       "      <td>48.000000</td>\n",
       "      <td>12.000000</td>\n",
       "      <td>0.000000</td>\n",
       "      <td>0.000000</td>\n",
       "      <td>45.000000</td>\n",
       "      <td>0.000000</td>\n",
       "      <td>0.000000</td>\n",
       "      <td>0.000000</td>\n",
       "      <td>0.000000</td>\n",
       "      <td>1.000000</td>\n",
       "      <td>...</td>\n",
       "      <td>1.000000</td>\n",
       "      <td>0.000000</td>\n",
       "      <td>0.000000</td>\n",
       "      <td>0.000000</td>\n",
       "      <td>0.000000</td>\n",
       "      <td>0.000000</td>\n",
       "      <td>0.000000</td>\n",
       "      <td>0.000000</td>\n",
       "      <td>0.000000</td>\n",
       "      <td>1.000000</td>\n",
       "    </tr>\n",
       "    <tr>\n",
       "      <th>max</th>\n",
       "      <td>90.000000</td>\n",
       "      <td>16.000000</td>\n",
       "      <td>99999.000000</td>\n",
       "      <td>4356.000000</td>\n",
       "      <td>99.000000</td>\n",
       "      <td>1.000000</td>\n",
       "      <td>1.000000</td>\n",
       "      <td>1.000000</td>\n",
       "      <td>1.000000</td>\n",
       "      <td>1.000000</td>\n",
       "      <td>...</td>\n",
       "      <td>1.000000</td>\n",
       "      <td>1.000000</td>\n",
       "      <td>1.000000</td>\n",
       "      <td>1.000000</td>\n",
       "      <td>1.000000</td>\n",
       "      <td>1.000000</td>\n",
       "      <td>1.000000</td>\n",
       "      <td>1.000000</td>\n",
       "      <td>1.000000</td>\n",
       "      <td>1.000000</td>\n",
       "    </tr>\n",
       "  </tbody>\n",
       "</table>\n",
       "<p>8 rows × 56 columns</p>\n",
       "</div>"
      ],
      "text/plain": [
       "                age  education-num  capital-gain  capital-loss  \\\n",
       "count  32561.000000   32561.000000  32561.000000  32561.000000   \n",
       "mean      38.581647      10.080679   1077.648844     87.303830   \n",
       "std       13.640433       2.572720   7385.292085    402.960219   \n",
       "min       17.000000       1.000000      0.000000      0.000000   \n",
       "25%       28.000000       9.000000      0.000000      0.000000   \n",
       "50%       37.000000      10.000000      0.000000      0.000000   \n",
       "75%       48.000000      12.000000      0.000000      0.000000   \n",
       "max       90.000000      16.000000  99999.000000   4356.000000   \n",
       "\n",
       "       hours-per-week   workclass_?  workclass_Federal-gov  \\\n",
       "count    32561.000000  32561.000000           32561.000000   \n",
       "mean        40.437456      0.056386               0.029483   \n",
       "std         12.347429      0.230670               0.169159   \n",
       "min          1.000000      0.000000               0.000000   \n",
       "25%         40.000000      0.000000               0.000000   \n",
       "50%         40.000000      0.000000               0.000000   \n",
       "75%         45.000000      0.000000               0.000000   \n",
       "max         99.000000      1.000000               1.000000   \n",
       "\n",
       "       workclass_Local-gov  workclass_Never-worked  workclass_Private  ...  \\\n",
       "count         32561.000000            32561.000000       32561.000000  ...   \n",
       "mean              0.064279                0.000215           0.697030  ...   \n",
       "std               0.245254                0.014661           0.459549  ...   \n",
       "min               0.000000                0.000000           0.000000  ...   \n",
       "25%               0.000000                0.000000           0.000000  ...   \n",
       "50%               0.000000                0.000000           1.000000  ...   \n",
       "75%               0.000000                0.000000           1.000000  ...   \n",
       "max               1.000000                1.000000           1.000000  ...   \n",
       "\n",
       "       relationship_Not-in-family  relationship_Other-relative  \\\n",
       "count                32561.000000                 32561.000000   \n",
       "mean                     0.255060                     0.030128   \n",
       "std                      0.435901                     0.170942   \n",
       "min                      0.000000                     0.000000   \n",
       "25%                      0.000000                     0.000000   \n",
       "50%                      0.000000                     0.000000   \n",
       "75%                      1.000000                     0.000000   \n",
       "max                      1.000000                     1.000000   \n",
       "\n",
       "       relationship_Own-child  relationship_Unmarried  relationship_Wife  \\\n",
       "count            32561.000000            32561.000000       32561.000000   \n",
       "mean                 0.155646                0.105832           0.048156   \n",
       "std                  0.362525                0.307627           0.214099   \n",
       "min                  0.000000                0.000000           0.000000   \n",
       "25%                  0.000000                0.000000           0.000000   \n",
       "50%                  0.000000                0.000000           0.000000   \n",
       "75%                  0.000000                0.000000           0.000000   \n",
       "max                  1.000000                1.000000           1.000000   \n",
       "\n",
       "       race_Amer-Indian-Eskimo  race_Asian-Pac-Islander    race_Black  \\\n",
       "count             32561.000000             32561.000000  32561.000000   \n",
       "mean                  0.009551                 0.031909      0.095943   \n",
       "std                   0.097264                 0.175761      0.294518   \n",
       "min                   0.000000                 0.000000      0.000000   \n",
       "25%                   0.000000                 0.000000      0.000000   \n",
       "50%                   0.000000                 0.000000      0.000000   \n",
       "75%                   0.000000                 0.000000      0.000000   \n",
       "max                   1.000000                 1.000000      1.000000   \n",
       "\n",
       "         race_Other    race_White  \n",
       "count  32561.000000  32561.000000  \n",
       "mean       0.008323      0.854274  \n",
       "std        0.090851      0.352837  \n",
       "min        0.000000      0.000000  \n",
       "25%        0.000000      1.000000  \n",
       "50%        0.000000      1.000000  \n",
       "75%        0.000000      1.000000  \n",
       "max        1.000000      1.000000  \n",
       "\n",
       "[8 rows x 56 columns]"
      ]
     },
     "execution_count": 239,
     "metadata": {},
     "output_type": "execute_result"
    }
   ],
   "source": [
    "x.describe()"
   ]
  },
  {
   "cell_type": "code",
   "execution_count": 240,
   "metadata": {},
   "outputs": [
    {
     "data": {
      "text/html": [
       "<div>\n",
       "<style scoped>\n",
       "    .dataframe tbody tr th:only-of-type {\n",
       "        vertical-align: middle;\n",
       "    }\n",
       "\n",
       "    .dataframe tbody tr th {\n",
       "        vertical-align: top;\n",
       "    }\n",
       "\n",
       "    .dataframe thead th {\n",
       "        text-align: right;\n",
       "    }\n",
       "</style>\n",
       "<table border=\"1\" class=\"dataframe\">\n",
       "  <thead>\n",
       "    <tr style=\"text-align: right;\">\n",
       "      <th></th>\n",
       "      <th>age</th>\n",
       "      <th>education-num</th>\n",
       "      <th>capital-gain</th>\n",
       "      <th>capital-loss</th>\n",
       "      <th>hours-per-week</th>\n",
       "      <th>workclass_?</th>\n",
       "      <th>workclass_Federal-gov</th>\n",
       "      <th>workclass_Local-gov</th>\n",
       "      <th>workclass_Never-worked</th>\n",
       "      <th>workclass_Private</th>\n",
       "      <th>...</th>\n",
       "      <th>relationship_Not-in-family</th>\n",
       "      <th>relationship_Other-relative</th>\n",
       "      <th>relationship_Own-child</th>\n",
       "      <th>relationship_Unmarried</th>\n",
       "      <th>relationship_Wife</th>\n",
       "      <th>race_Amer-Indian-Eskimo</th>\n",
       "      <th>race_Asian-Pac-Islander</th>\n",
       "      <th>race_Black</th>\n",
       "      <th>race_Other</th>\n",
       "      <th>race_White</th>\n",
       "    </tr>\n",
       "  </thead>\n",
       "  <tbody>\n",
       "    <tr>\n",
       "      <th>count</th>\n",
       "      <td>16281.000000</td>\n",
       "      <td>16281.000000</td>\n",
       "      <td>16281.000000</td>\n",
       "      <td>16281.000000</td>\n",
       "      <td>16281.000000</td>\n",
       "      <td>16281.000000</td>\n",
       "      <td>16281.000000</td>\n",
       "      <td>16281.000000</td>\n",
       "      <td>16281.000000</td>\n",
       "      <td>16281.000000</td>\n",
       "      <td>...</td>\n",
       "      <td>16281.000000</td>\n",
       "      <td>16281.000000</td>\n",
       "      <td>16281.000000</td>\n",
       "      <td>16281.000000</td>\n",
       "      <td>16281.000000</td>\n",
       "      <td>16281.000000</td>\n",
       "      <td>16281.000000</td>\n",
       "      <td>16281.000000</td>\n",
       "      <td>16281.000000</td>\n",
       "      <td>16281.000000</td>\n",
       "    </tr>\n",
       "    <tr>\n",
       "      <th>mean</th>\n",
       "      <td>38.767459</td>\n",
       "      <td>10.072907</td>\n",
       "      <td>1081.905104</td>\n",
       "      <td>87.899269</td>\n",
       "      <td>40.392236</td>\n",
       "      <td>0.059149</td>\n",
       "      <td>0.028991</td>\n",
       "      <td>0.064062</td>\n",
       "      <td>0.000184</td>\n",
       "      <td>0.688533</td>\n",
       "      <td>...</td>\n",
       "      <td>0.262760</td>\n",
       "      <td>0.032246</td>\n",
       "      <td>0.154352</td>\n",
       "      <td>0.103126</td>\n",
       "      <td>0.046864</td>\n",
       "      <td>0.009766</td>\n",
       "      <td>0.029482</td>\n",
       "      <td>0.095879</td>\n",
       "      <td>0.008292</td>\n",
       "      <td>0.856581</td>\n",
       "    </tr>\n",
       "    <tr>\n",
       "      <th>std</th>\n",
       "      <td>13.849187</td>\n",
       "      <td>2.567545</td>\n",
       "      <td>7583.935968</td>\n",
       "      <td>403.105286</td>\n",
       "      <td>12.479332</td>\n",
       "      <td>0.235910</td>\n",
       "      <td>0.167786</td>\n",
       "      <td>0.244872</td>\n",
       "      <td>0.013574</td>\n",
       "      <td>0.463108</td>\n",
       "      <td>...</td>\n",
       "      <td>0.440147</td>\n",
       "      <td>0.176659</td>\n",
       "      <td>0.361297</td>\n",
       "      <td>0.304133</td>\n",
       "      <td>0.211355</td>\n",
       "      <td>0.098342</td>\n",
       "      <td>0.169159</td>\n",
       "      <td>0.294434</td>\n",
       "      <td>0.090684</td>\n",
       "      <td>0.350510</td>\n",
       "    </tr>\n",
       "    <tr>\n",
       "      <th>min</th>\n",
       "      <td>17.000000</td>\n",
       "      <td>1.000000</td>\n",
       "      <td>0.000000</td>\n",
       "      <td>0.000000</td>\n",
       "      <td>1.000000</td>\n",
       "      <td>0.000000</td>\n",
       "      <td>0.000000</td>\n",
       "      <td>0.000000</td>\n",
       "      <td>0.000000</td>\n",
       "      <td>0.000000</td>\n",
       "      <td>...</td>\n",
       "      <td>0.000000</td>\n",
       "      <td>0.000000</td>\n",
       "      <td>0.000000</td>\n",
       "      <td>0.000000</td>\n",
       "      <td>0.000000</td>\n",
       "      <td>0.000000</td>\n",
       "      <td>0.000000</td>\n",
       "      <td>0.000000</td>\n",
       "      <td>0.000000</td>\n",
       "      <td>0.000000</td>\n",
       "    </tr>\n",
       "    <tr>\n",
       "      <th>25%</th>\n",
       "      <td>28.000000</td>\n",
       "      <td>9.000000</td>\n",
       "      <td>0.000000</td>\n",
       "      <td>0.000000</td>\n",
       "      <td>40.000000</td>\n",
       "      <td>0.000000</td>\n",
       "      <td>0.000000</td>\n",
       "      <td>0.000000</td>\n",
       "      <td>0.000000</td>\n",
       "      <td>0.000000</td>\n",
       "      <td>...</td>\n",
       "      <td>0.000000</td>\n",
       "      <td>0.000000</td>\n",
       "      <td>0.000000</td>\n",
       "      <td>0.000000</td>\n",
       "      <td>0.000000</td>\n",
       "      <td>0.000000</td>\n",
       "      <td>0.000000</td>\n",
       "      <td>0.000000</td>\n",
       "      <td>0.000000</td>\n",
       "      <td>1.000000</td>\n",
       "    </tr>\n",
       "    <tr>\n",
       "      <th>50%</th>\n",
       "      <td>37.000000</td>\n",
       "      <td>10.000000</td>\n",
       "      <td>0.000000</td>\n",
       "      <td>0.000000</td>\n",
       "      <td>40.000000</td>\n",
       "      <td>0.000000</td>\n",
       "      <td>0.000000</td>\n",
       "      <td>0.000000</td>\n",
       "      <td>0.000000</td>\n",
       "      <td>1.000000</td>\n",
       "      <td>...</td>\n",
       "      <td>0.000000</td>\n",
       "      <td>0.000000</td>\n",
       "      <td>0.000000</td>\n",
       "      <td>0.000000</td>\n",
       "      <td>0.000000</td>\n",
       "      <td>0.000000</td>\n",
       "      <td>0.000000</td>\n",
       "      <td>0.000000</td>\n",
       "      <td>0.000000</td>\n",
       "      <td>1.000000</td>\n",
       "    </tr>\n",
       "    <tr>\n",
       "      <th>75%</th>\n",
       "      <td>48.000000</td>\n",
       "      <td>12.000000</td>\n",
       "      <td>0.000000</td>\n",
       "      <td>0.000000</td>\n",
       "      <td>45.000000</td>\n",
       "      <td>0.000000</td>\n",
       "      <td>0.000000</td>\n",
       "      <td>0.000000</td>\n",
       "      <td>0.000000</td>\n",
       "      <td>1.000000</td>\n",
       "      <td>...</td>\n",
       "      <td>1.000000</td>\n",
       "      <td>0.000000</td>\n",
       "      <td>0.000000</td>\n",
       "      <td>0.000000</td>\n",
       "      <td>0.000000</td>\n",
       "      <td>0.000000</td>\n",
       "      <td>0.000000</td>\n",
       "      <td>0.000000</td>\n",
       "      <td>0.000000</td>\n",
       "      <td>1.000000</td>\n",
       "    </tr>\n",
       "    <tr>\n",
       "      <th>max</th>\n",
       "      <td>90.000000</td>\n",
       "      <td>16.000000</td>\n",
       "      <td>99999.000000</td>\n",
       "      <td>3770.000000</td>\n",
       "      <td>99.000000</td>\n",
       "      <td>1.000000</td>\n",
       "      <td>1.000000</td>\n",
       "      <td>1.000000</td>\n",
       "      <td>1.000000</td>\n",
       "      <td>1.000000</td>\n",
       "      <td>...</td>\n",
       "      <td>1.000000</td>\n",
       "      <td>1.000000</td>\n",
       "      <td>1.000000</td>\n",
       "      <td>1.000000</td>\n",
       "      <td>1.000000</td>\n",
       "      <td>1.000000</td>\n",
       "      <td>1.000000</td>\n",
       "      <td>1.000000</td>\n",
       "      <td>1.000000</td>\n",
       "      <td>1.000000</td>\n",
       "    </tr>\n",
       "  </tbody>\n",
       "</table>\n",
       "<p>8 rows × 56 columns</p>\n",
       "</div>"
      ],
      "text/plain": [
       "                age  education-num  capital-gain  capital-loss  \\\n",
       "count  16281.000000   16281.000000  16281.000000  16281.000000   \n",
       "mean      38.767459      10.072907   1081.905104     87.899269   \n",
       "std       13.849187       2.567545   7583.935968    403.105286   \n",
       "min       17.000000       1.000000      0.000000      0.000000   \n",
       "25%       28.000000       9.000000      0.000000      0.000000   \n",
       "50%       37.000000      10.000000      0.000000      0.000000   \n",
       "75%       48.000000      12.000000      0.000000      0.000000   \n",
       "max       90.000000      16.000000  99999.000000   3770.000000   \n",
       "\n",
       "       hours-per-week   workclass_?  workclass_Federal-gov  \\\n",
       "count    16281.000000  16281.000000           16281.000000   \n",
       "mean        40.392236      0.059149               0.028991   \n",
       "std         12.479332      0.235910               0.167786   \n",
       "min          1.000000      0.000000               0.000000   \n",
       "25%         40.000000      0.000000               0.000000   \n",
       "50%         40.000000      0.000000               0.000000   \n",
       "75%         45.000000      0.000000               0.000000   \n",
       "max         99.000000      1.000000               1.000000   \n",
       "\n",
       "       workclass_Local-gov  workclass_Never-worked  workclass_Private  ...  \\\n",
       "count         16281.000000            16281.000000       16281.000000  ...   \n",
       "mean              0.064062                0.000184           0.688533  ...   \n",
       "std               0.244872                0.013574           0.463108  ...   \n",
       "min               0.000000                0.000000           0.000000  ...   \n",
       "25%               0.000000                0.000000           0.000000  ...   \n",
       "50%               0.000000                0.000000           1.000000  ...   \n",
       "75%               0.000000                0.000000           1.000000  ...   \n",
       "max               1.000000                1.000000           1.000000  ...   \n",
       "\n",
       "       relationship_Not-in-family  relationship_Other-relative  \\\n",
       "count                16281.000000                 16281.000000   \n",
       "mean                     0.262760                     0.032246   \n",
       "std                      0.440147                     0.176659   \n",
       "min                      0.000000                     0.000000   \n",
       "25%                      0.000000                     0.000000   \n",
       "50%                      0.000000                     0.000000   \n",
       "75%                      1.000000                     0.000000   \n",
       "max                      1.000000                     1.000000   \n",
       "\n",
       "       relationship_Own-child  relationship_Unmarried  relationship_Wife  \\\n",
       "count            16281.000000            16281.000000       16281.000000   \n",
       "mean                 0.154352                0.103126           0.046864   \n",
       "std                  0.361297                0.304133           0.211355   \n",
       "min                  0.000000                0.000000           0.000000   \n",
       "25%                  0.000000                0.000000           0.000000   \n",
       "50%                  0.000000                0.000000           0.000000   \n",
       "75%                  0.000000                0.000000           0.000000   \n",
       "max                  1.000000                1.000000           1.000000   \n",
       "\n",
       "       race_Amer-Indian-Eskimo  race_Asian-Pac-Islander    race_Black  \\\n",
       "count             16281.000000             16281.000000  16281.000000   \n",
       "mean                  0.009766                 0.029482      0.095879   \n",
       "std                   0.098342                 0.169159      0.294434   \n",
       "min                   0.000000                 0.000000      0.000000   \n",
       "25%                   0.000000                 0.000000      0.000000   \n",
       "50%                   0.000000                 0.000000      0.000000   \n",
       "75%                   0.000000                 0.000000      0.000000   \n",
       "max                   1.000000                 1.000000      1.000000   \n",
       "\n",
       "         race_Other    race_White  \n",
       "count  16281.000000  16281.000000  \n",
       "mean       0.008292      0.856581  \n",
       "std        0.090684      0.350510  \n",
       "min        0.000000      0.000000  \n",
       "25%        0.000000      1.000000  \n",
       "50%        0.000000      1.000000  \n",
       "75%        0.000000      1.000000  \n",
       "max        1.000000      1.000000  \n",
       "\n",
       "[8 rows x 56 columns]"
      ]
     },
     "execution_count": 240,
     "metadata": {},
     "output_type": "execute_result"
    }
   ],
   "source": [
    "x_test.describe()"
   ]
  },
  {
   "cell_type": "code",
   "execution_count": 243,
   "metadata": {},
   "outputs": [
    {
     "name": "stderr",
     "output_type": "stream",
     "text": [
      "24838.48s - pydevd: Sending message related to process being replaced timed-out after 5 seconds\n"
     ]
    },
    {
     "name": "stdout",
     "output_type": "stream",
     "text": [
      "Collecting seaborn\n",
      "  Downloading seaborn-0.12.1-py3-none-any.whl (288 kB)\n",
      "\u001b[2K     \u001b[38;2;114;156;31m━━━━━━━━━━━━━━━━━━━━━━━━━━━━━━━━━━━━━━━\u001b[0m \u001b[32m288.2/288.2 kB\u001b[0m \u001b[31m2.8 MB/s\u001b[0m eta \u001b[36m0:00:00\u001b[0m MB/s\u001b[0m eta \u001b[36m0:00:01\u001b[0m\n",
      "\u001b[?25hRequirement already satisfied: matplotlib!=3.6.1,>=3.1 in /Users/leevi/.pyenv/versions/3.10.4/envs/ml-venv/lib/python3.10/site-packages (from seaborn) (3.5.3)\n",
      "Requirement already satisfied: numpy>=1.17 in /Users/leevi/.pyenv/versions/3.10.4/envs/ml-venv/lib/python3.10/site-packages (from seaborn) (1.23.2)\n",
      "Requirement already satisfied: pandas>=0.25 in /Users/leevi/.pyenv/versions/3.10.4/envs/ml-venv/lib/python3.10/site-packages (from seaborn) (1.4.3)\n",
      "Requirement already satisfied: pillow>=6.2.0 in /Users/leevi/.pyenv/versions/3.10.4/envs/ml-venv/lib/python3.10/site-packages (from matplotlib!=3.6.1,>=3.1->seaborn) (9.2.0)\n",
      "Requirement already satisfied: fonttools>=4.22.0 in /Users/leevi/.pyenv/versions/3.10.4/envs/ml-venv/lib/python3.10/site-packages (from matplotlib!=3.6.1,>=3.1->seaborn) (4.35.0)\n",
      "Requirement already satisfied: python-dateutil>=2.7 in /Users/leevi/.pyenv/versions/3.10.4/envs/ml-venv/lib/python3.10/site-packages (from matplotlib!=3.6.1,>=3.1->seaborn) (2.8.2)\n",
      "Requirement already satisfied: pyparsing>=2.2.1 in /Users/leevi/.pyenv/versions/3.10.4/envs/ml-venv/lib/python3.10/site-packages (from matplotlib!=3.6.1,>=3.1->seaborn) (3.0.9)\n",
      "Requirement already satisfied: packaging>=20.0 in /Users/leevi/.pyenv/versions/3.10.4/envs/ml-venv/lib/python3.10/site-packages (from matplotlib!=3.6.1,>=3.1->seaborn) (21.3)\n",
      "Requirement already satisfied: kiwisolver>=1.0.1 in /Users/leevi/.pyenv/versions/3.10.4/envs/ml-venv/lib/python3.10/site-packages (from matplotlib!=3.6.1,>=3.1->seaborn) (1.4.4)\n",
      "Requirement already satisfied: cycler>=0.10 in /Users/leevi/.pyenv/versions/3.10.4/envs/ml-venv/lib/python3.10/site-packages (from matplotlib!=3.6.1,>=3.1->seaborn) (0.11.0)\n",
      "Requirement already satisfied: pytz>=2020.1 in /Users/leevi/.pyenv/versions/3.10.4/envs/ml-venv/lib/python3.10/site-packages (from pandas>=0.25->seaborn) (2022.2.1)\n",
      "Requirement already satisfied: six>=1.5 in /Users/leevi/.pyenv/versions/3.10.4/envs/ml-venv/lib/python3.10/site-packages (from python-dateutil>=2.7->matplotlib!=3.6.1,>=3.1->seaborn) (1.16.0)\n",
      "Installing collected packages: seaborn\n",
      "Successfully installed seaborn-0.12.1\n",
      "\n",
      "\u001b[1m[\u001b[0m\u001b[34;49mnotice\u001b[0m\u001b[1;39;49m]\u001b[0m\u001b[39;49m A new release of pip available: \u001b[0m\u001b[31;49m22.2.2\u001b[0m\u001b[39;49m -> \u001b[0m\u001b[32;49m22.3.1\u001b[0m\n",
      "\u001b[1m[\u001b[0m\u001b[34;49mnotice\u001b[0m\u001b[1;39;49m]\u001b[0m\u001b[39;49m To update, run: \u001b[0m\u001b[32;49mpip install --upgrade pip\u001b[0m\n",
      "Note: you may need to restart the kernel to use updated packages.\n"
     ]
    }
   ],
   "source": [
    "%pip install seaborn"
   ]
  },
  {
   "cell_type": "code",
   "execution_count": 244,
   "metadata": {},
   "outputs": [],
   "source": [
    "import seaborn as sns"
   ]
  },
  {
   "cell_type": "code",
   "execution_count": 245,
   "metadata": {},
   "outputs": [
    {
     "data": {
      "text/plain": [
       "<AxesSubplot:ylabel='Density'>"
      ]
     },
     "execution_count": 245,
     "metadata": {},
     "output_type": "execute_result"
    },
    {
     "data": {
      "image/png": "[encoded data removed]",
      "text/plain": [
       "<Figure size 432x288 with 1 Axes>"
      ]
     },
     "metadata": {
      "needs_background": "light"
     },
     "output_type": "display_data"
    }
   ],
   "source": [
    "sns.kdeplot(probs)"
   ]
  },
  {
   "cell_type": "code",
   "execution_count": 246,
   "metadata": {},
   "outputs": [
    {
     "data": {
      "text/plain": [
       "<AxesSubplot:ylabel='Density'>"
      ]
     },
     "execution_count": 246,
     "metadata": {},
     "output_type": "execute_result"
    },
    {
     "data": {
      "image/png": "[encoded data removed]",
      "text/plain": [
       "<Figure size 432x288 with 1 Axes>"
      ]
     },
     "metadata": {
      "needs_background": "light"
     },
     "output_type": "display_data"
    }
   ],
   "source": [
    "sns.kdeplot(probs_test)"
   ]
  },
  {
   "cell_type": "code",
   "execution_count": 251,
   "metadata": {},
   "outputs": [
    {
     "data": {
      "text/plain": [
       "0.0"
      ]
     },
     "execution_count": 251,
     "metadata": {},
     "output_type": "execute_result"
    }
   ],
   "source": [
    "y_test.mean()"
   ]
  },
  {
   "cell_type": "code",
   "execution_count": 249,
   "metadata": {},
   "outputs": [
    {
     "data": {
      "text/plain": [
       "<AxesSubplot:>"
      ]
     },
     "execution_count": 249,
     "metadata": {},
     "output_type": "execute_result"
    },
    {
     "data": {
      "image/png": "[encoded data removed]",
      "text/plain": [
       "<Figure size 432x288 with 1 Axes>"
      ]
     },
     "metadata": {
      "needs_background": "light"
     },
     "output_type": "display_data"
    }
   ],
   "source": [
    "sns.kdeplot(probs_test[y_test == 1])"
   ]
  },
  {
   "cell_type": "code",
   "execution_count": 248,
   "metadata": {},
   "outputs": [
    {
     "data": {
      "text/plain": [
       "<AxesSubplot:ylabel='Density'>"
      ]
     },
     "execution_count": 248,
     "metadata": {},
     "output_type": "execute_result"
    },
    {
     "data": {
      "image/png": "[encoded data removed]",
      "text/plain": [
       "<Figure size 432x288 with 1 Axes>"
      ]
     },
     "metadata": {
      "needs_background": "light"
     },
     "output_type": "display_data"
    }
   ],
   "source": [
    "sns.kdeplot(probs[y == 1])\n",
    "sns.kdeplot(probs_test[y_test == 1])"
   ]
  }
 ],
 "metadata": {
  "kernelspec": {
   "display_name": "ml-venv",
   "language": "python",
   "name": "python3"
  },
  "language_info": {
   "codemirror_mode": {
    "name": "ipython",
    "version": 3
   },
   "file_extension": ".py",
   "mimetype": "text/x-python",
   "name": "python",
   "nbconvert_exporter": "python",
   "pygments_lexer": "ipython3",
   "version": "3.10.4"
  },
  "orig_nbformat": 4,
  "vscode": {
   "interpreter": {
    "hash": "165cbcba0d07a02053b0bc92fa7b928310d357c23558db40a80716015a2ca901"
   }
  }
 },
 "nbformat": 4,
 "nbformat_minor": 2
}
